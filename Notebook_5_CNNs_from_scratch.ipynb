{
  "nbformat": 4,
  "nbformat_minor": 0,
  "metadata": {
    "colab": {
      "name": "Notebook_5_CNNs_from_scratch",
      "provenance": [],
      "collapsed_sections": []
    },
    "kernelspec": {
      "name": "python3",
      "display_name": "Python 3"
    },
    "accelerator": "GPU"
  },
  "cells": [
    {
      "cell_type": "markdown",
      "metadata": {
        "id": "mY5WOZWrFI91",
        "colab_type": "text"
      },
      "source": [
        "# Neural Networks for Data Science Applications\n",
        "## Lab session 5: Building CNNs from scratch\n",
        "\n",
        "**Contents of the lab session:**\n",
        "+ Build flexible image pipelines in TF using tf.data.\n",
        "+ Defining a CNN architecture from scratch.\n",
        "+ Make code faster using `tf.function`."
      ]
    },
    {
      "cell_type": "code",
      "metadata": {
        "id": "rnT0_RqFjcJr",
        "colab_type": "code",
        "outputId": "b5355bea-fe51-4eb5-865e-0cf9b740f993",
        "colab": {
          "base_uri": "https://localhost:8080/",
          "height": 156
        }
      },
      "source": [
        "# Remember to enable a GPU on Colab by:\n",
        "# Runtime >> Change runtime type >> Hardware accelerator (before starting the VM).\n",
        "!pip install -q tensorflow-gpu==2.0.0"
      ],
      "execution_count": 1,
      "outputs": [
        {
          "output_type": "stream",
          "text": [
            "\u001b[K     |████████████████████████████████| 380.8MB 44kB/s \n",
            "\u001b[K     |████████████████████████████████| 3.8MB 44.3MB/s \n",
            "\u001b[K     |████████████████████████████████| 450kB 45.4MB/s \n",
            "\u001b[K     |████████████████████████████████| 81kB 8.8MB/s \n",
            "\u001b[31mERROR: tensorflow 1.15.0 has requirement tensorboard<1.16.0,>=1.15.0, but you'll have tensorboard 2.0.1 which is incompatible.\u001b[0m\n",
            "\u001b[31mERROR: tensorflow 1.15.0 has requirement tensorflow-estimator==1.15.1, but you'll have tensorflow-estimator 2.0.1 which is incompatible.\u001b[0m\n",
            "\u001b[31mERROR: tensorboard 2.0.1 has requirement grpcio>=1.24.3, but you'll have grpcio 1.15.0 which is incompatible.\u001b[0m\n",
            "\u001b[31mERROR: google-colab 1.0.0 has requirement google-auth~=1.4.0, but you'll have google-auth 1.7.1 which is incompatible.\u001b[0m\n",
            "\u001b[?25h"
          ],
          "name": "stdout"
        }
      ]
    },
    {
      "cell_type": "markdown",
      "metadata": {
        "id": "u3xJbtVsFsOj",
        "colab_type": "text"
      },
      "source": [
        "## About the task for this lab session"
      ]
    },
    {
      "cell_type": "markdown",
      "metadata": {
        "id": "ANUF1kb7FjSZ",
        "colab_type": "text"
      },
      "source": [
        "The data can be downloaded as **Dataset 1** from here:\n",
        "https://github.com/SullyChen/driving-datasets\n",
        "\n",
        "Direct Drive link:\n",
        "https://drive.google.com/file/d/0B-KJCaaF7elleG1RbzVPZWV4Tlk/view?usp=sharing\n",
        "\n",
        "For each image (taken from a front-facing camera in a car), we want to predict the steering direction.)"
      ]
    },
    {
      "cell_type": "markdown",
      "metadata": {
        "id": "nEuwwee9F5DR",
        "colab_type": "text"
      },
      "source": [
        "### Step 0 (ONLY COLAB): Load the Drive file\n",
        "This part is only needed in a Colab environment for downloading the Drive file.\n",
        "\n",
        "*Note*: the download code can be found in Colab from the left menu, under Code Snippets."
      ]
    },
    {
      "cell_type": "code",
      "metadata": {
        "id": "Xilk9BqHl5KG",
        "colab_type": "code",
        "colab": {}
      },
      "source": [
        "# After this, restart the runtime to avoid authentication issues\n",
        "!pip install -q -U PyDrive"
      ],
      "execution_count": 0,
      "outputs": []
    },
    {
      "cell_type": "code",
      "metadata": {
        "id": "goMDxq-hkNpP",
        "colab_type": "code",
        "colab": {}
      },
      "source": [
        "# Import PyDrive and associated libraries.\n",
        "# This only needs to be done once per notebook.\n",
        "from pydrive.auth import GoogleAuth\n",
        "from pydrive.drive import GoogleDrive\n",
        "from google.colab import auth\n",
        "from oauth2client.client import GoogleCredentials\n",
        "\n",
        "# Authenticate and create the PyDrive client.\n",
        "# This only needs to be done once per notebook.\n",
        "auth.authenticate_user()\n",
        "gauth = GoogleAuth()\n",
        "gauth.credentials = GoogleCredentials.get_application_default()\n",
        "drive = GoogleDrive(gauth)"
      ],
      "execution_count": 0,
      "outputs": []
    },
    {
      "cell_type": "code",
      "metadata": {
        "id": "8O3QToxPkjbn",
        "colab_type": "code",
        "colab": {}
      },
      "source": [
        "# Download the file based on its file ID.\n",
        "# https://drive.google.com/file/d/0B-KJCaaF7elleG1RbzVPZWV4Tlk/view\n",
        "file_id = '0B-KJCaaF7elleG1RbzVPZWV4Tlk'\n",
        "downloaded = drive.CreateFile({'id': file_id})"
      ],
      "execution_count": 0,
      "outputs": []
    },
    {
      "cell_type": "code",
      "metadata": {
        "id": "LpjGMw7ioNfh",
        "colab_type": "code",
        "colab": {}
      },
      "source": [
        "downloaded.GetContentFile('driving_dataset.zip')"
      ],
      "execution_count": 0,
      "outputs": []
    },
    {
      "cell_type": "code",
      "metadata": {
        "id": "96X6DCWqpFFz",
        "colab_type": "code",
        "colab": {}
      },
      "source": [
        "!unzip -q driving_dataset.zip"
      ],
      "execution_count": 0,
      "outputs": []
    },
    {
      "cell_type": "code",
      "metadata": {
        "id": "5AS0D0WtpY4m",
        "colab_type": "code",
        "colab": {}
      },
      "source": [
        "# Explore the content! (Also from the left menu.)\n",
        "# You can see that image information is provided in a single .txt file,\n",
        "# making difficult the use of the ImageDataGenerator from tf.keras. \n",
        "# For this reason, we'll make a more flexible pipeline with tf.data.\n",
        "!ls driving_dataset"
      ],
      "execution_count": 0,
      "outputs": []
    },
    {
      "cell_type": "markdown",
      "metadata": {
        "id": "cy5FuAagGwpl",
        "colab_type": "text"
      },
      "source": [
        "### Step 1: Load the CSV file"
      ]
    },
    {
      "cell_type": "code",
      "metadata": {
        "id": "XhRtM-rMp00M",
        "colab_type": "code",
        "colab": {}
      },
      "source": [
        "import pandas as pd\n",
        "files = pd.read_csv('driving_dataset/data.txt', \n",
        "                    header=None, sep=' ')"
      ],
      "execution_count": 0,
      "outputs": []
    },
    {
      "cell_type": "code",
      "metadata": {
        "id": "A19KBQmOqEGj",
        "colab_type": "code",
        "outputId": "f6bef716-0686-4600-9d98-85da3459acf2",
        "colab": {
          "base_uri": "https://localhost:8080/",
          "height": 202
        }
      },
      "source": [
        "# First column is the file name, second column is the steering angle\n",
        "files.head()"
      ],
      "execution_count": 8,
      "outputs": [
        {
          "output_type": "execute_result",
          "data": {
            "text/html": [
              "<div>\n",
              "<style scoped>\n",
              "    .dataframe tbody tr th:only-of-type {\n",
              "        vertical-align: middle;\n",
              "    }\n",
              "\n",
              "    .dataframe tbody tr th {\n",
              "        vertical-align: top;\n",
              "    }\n",
              "\n",
              "    .dataframe thead th {\n",
              "        text-align: right;\n",
              "    }\n",
              "</style>\n",
              "<table border=\"1\" class=\"dataframe\">\n",
              "  <thead>\n",
              "    <tr style=\"text-align: right;\">\n",
              "      <th></th>\n",
              "      <th>0</th>\n",
              "      <th>1</th>\n",
              "    </tr>\n",
              "  </thead>\n",
              "  <tbody>\n",
              "    <tr>\n",
              "      <th>0</th>\n",
              "      <td>0.jpg</td>\n",
              "      <td>0.0</td>\n",
              "    </tr>\n",
              "    <tr>\n",
              "      <th>1</th>\n",
              "      <td>1.jpg</td>\n",
              "      <td>0.0</td>\n",
              "    </tr>\n",
              "    <tr>\n",
              "      <th>2</th>\n",
              "      <td>2.jpg</td>\n",
              "      <td>0.0</td>\n",
              "    </tr>\n",
              "    <tr>\n",
              "      <th>3</th>\n",
              "      <td>3.jpg</td>\n",
              "      <td>0.0</td>\n",
              "    </tr>\n",
              "    <tr>\n",
              "      <th>4</th>\n",
              "      <td>4.jpg</td>\n",
              "      <td>0.0</td>\n",
              "    </tr>\n",
              "  </tbody>\n",
              "</table>\n",
              "</div>"
            ],
            "text/plain": [
              "       0    1\n",
              "0  0.jpg  0.0\n",
              "1  1.jpg  0.0\n",
              "2  2.jpg  0.0\n",
              "3  3.jpg  0.0\n",
              "4  4.jpg  0.0"
            ]
          },
          "metadata": {
            "tags": []
          },
          "execution_count": 8
        }
      ]
    },
    {
      "cell_type": "code",
      "metadata": {
        "id": "L1KhZeCaqnji",
        "colab_type": "code",
        "colab": {}
      },
      "source": [
        "paths = files.iloc[:, 0]\n",
        "labels = files.iloc[:, 1]"
      ],
      "execution_count": 0,
      "outputs": []
    },
    {
      "cell_type": "code",
      "metadata": {
        "id": "67lfquFcrGpE",
        "colab_type": "code",
        "outputId": "35549887-f3d2-432f-a6d6-2df757b463a0",
        "colab": {
          "base_uri": "https://localhost:8080/",
          "height": 265
        }
      },
      "source": [
        "# Plot the distribution of labels (note some form of unbalance)\n",
        "import matplotlib.pyplot as plt\n",
        "_ = plt.hist(labels)"
      ],
      "execution_count": 10,
      "outputs": [
        {
          "output_type": "display_data",
          "data": {
            "image/png": "[encoded data removed]",
            "text/plain": [
              "<Figure size 432x288 with 1 Axes>"
            ]
          },
          "metadata": {
            "tags": []
          }
        }
      ]
    },
    {
      "cell_type": "code",
      "metadata": {
        "id": "qYlW1RRrq5hp",
        "colab_type": "code",
        "colab": {}
      },
      "source": [
        "# Some angles are definitely strange, we'll remove them\n",
        "good_idx = labels < 180"
      ],
      "execution_count": 0,
      "outputs": []
    },
    {
      "cell_type": "code",
      "metadata": {
        "id": "GNwJLwVXrfCL",
        "colab_type": "code",
        "colab": {}
      },
      "source": [
        "paths = paths.loc[good_idx]\n",
        "labels = labels.loc[good_idx]"
      ],
      "execution_count": 0,
      "outputs": []
    },
    {
      "cell_type": "code",
      "metadata": {
        "id": "NnqCeq7-sHYf",
        "colab_type": "code",
        "outputId": "f549573e-0295-4bc1-e71f-daaf34f78680",
        "colab": {
          "base_uri": "https://localhost:8080/",
          "height": 35
        }
      },
      "source": [
        "paths.shape"
      ],
      "execution_count": 13,
      "outputs": [
        {
          "output_type": "execute_result",
          "data": {
            "text/plain": [
              "(45187,)"
            ]
          },
          "metadata": {
            "tags": []
          },
          "execution_count": 13
        }
      ]
    },
    {
      "cell_type": "markdown",
      "metadata": {
        "id": "X0ytky6tHIFF",
        "colab_type": "text"
      },
      "source": [
        "### Step 2: Define the tf.data pipeline"
      ]
    },
    {
      "cell_type": "markdown",
      "metadata": {
        "id": "kkKg9A4JHtlG",
        "colab_type": "text"
      },
      "source": [
        "We could also use the Keras interface `flow_from_dataframe`, but because our data preprocessing pipeline is more complicated this time, we show how to do it entirely using the 'tf.data' module.\n",
        "\n",
        "A full guide can be found here: https://www.tensorflow.org/tutorials/load_data/images"
      ]
    },
    {
      "cell_type": "code",
      "metadata": {
        "id": "g0KnSMassqPT",
        "colab_type": "code",
        "colab": {}
      },
      "source": [
        "import tensorflow as tf"
      ],
      "execution_count": 0,
      "outputs": []
    },
    {
      "cell_type": "code",
      "metadata": {
        "id": "zmox0i1Iswt0",
        "colab_type": "code",
        "colab": {}
      },
      "source": [
        "paths = tf.constant(paths.values)\n",
        "labels = tf.constant(labels.values)"
      ],
      "execution_count": 0,
      "outputs": []
    },
    {
      "cell_type": "code",
      "metadata": {
        "id": "11NqgJIHs-8V",
        "colab_type": "code",
        "colab": {}
      },
      "source": [
        "dataset = tf.data.Dataset.from_tensor_slices((paths, labels))"
      ],
      "execution_count": 0,
      "outputs": []
    },
    {
      "cell_type": "code",
      "metadata": {
        "id": "B9xGUcGItTzR",
        "colab_type": "code",
        "outputId": "640b2092-a65e-46ff-d785-239cc32fd938",
        "colab": {
          "base_uri": "https://localhost:8080/",
          "height": 52
        }
      },
      "source": [
        "for xb, yb in dataset.batch(4).take(1):\n",
        "  print(xb)\n",
        "  print(yb)"
      ],
      "execution_count": 35,
      "outputs": [
        {
          "output_type": "stream",
          "text": [
            "tf.Tensor([b'0.jpg' b'1.jpg' b'2.jpg' b'3.jpg'], shape=(4,), dtype=string)\n",
            "tf.Tensor([0. 0. 0. 0.], shape=(4,), dtype=float64)\n"
          ],
          "name": "stdout"
        }
      ]
    },
    {
      "cell_type": "code",
      "metadata": {
        "id": "PNX2XinwtiLJ",
        "colab_type": "code",
        "colab": {}
      },
      "source": [
        "# Preprocess the dataset in order to load each image:\n",
        "# After applying this function, each pair (path, label) is converted to (image, label)\n",
        "def preprocess(path, label):\n",
        "  \n",
        "  full_path = './driving_dataset' + '/' + path # This is the actual path\n",
        "  image = tf.io.read_file(full_path)\n",
        "  image = tf.io.decode_image(image, channels=3) # We specify the number of channels to avoid b/w images having just one channel\n",
        "  image = tf.image.resize_with_crop_or_pad(image, 196, 455) # We crop or pad to a specific dimension\n",
        "  image = tf.cast(image, tf.float32) / 255.0 # Normalize the image to [0.0, 1.0]\n",
        "\n",
        "  label = label / 180.0 # We also normalize the label to [-1.0, 1.0]\n",
        "  return image, label"
      ],
      "execution_count": 0,
      "outputs": []
    },
    {
      "cell_type": "code",
      "metadata": {
        "id": "oOVkfEBoPvZZ",
        "colab_type": "code",
        "colab": {}
      },
      "source": [
        "def augment(image, label):\n",
        "  # Another preprocessing function to randomly change the brightness of the input images\n",
        "  image = tf.image.random_brightness(image, 0.05)\n",
        "  return image, label"
      ],
      "execution_count": 0,
      "outputs": []
    },
    {
      "cell_type": "code",
      "metadata": {
        "id": "jMd9IhX2uT2U",
        "colab_type": "code",
        "outputId": "f8994cbb-04c2-4b47-cd4f-9f3db852312a",
        "colab": {
          "base_uri": "https://localhost:8080/",
          "height": 231
        }
      },
      "source": [
        "import matplotlib.pyplot as plt\n",
        "# Try the full pipeline\n",
        "for xb, yb in dataset.map(preprocess).map(augment).batch(1).take(1):\n",
        "  plt.imshow(xb[0].numpy())\n",
        "  print(yb)"
      ],
      "execution_count": 60,
      "outputs": [
        {
          "output_type": "stream",
          "text": [
            "Clipping input data to the valid range for imshow with RGB data ([0..1] for floats or [0..255] for integers).\n"
          ],
          "name": "stderr"
        },
        {
          "output_type": "stream",
          "text": [
            "tf.Tensor([0.], shape=(1,), dtype=float64)\n"
          ],
          "name": "stdout"
        },
        {
          "output_type": "display_data",
          "data": {
            "image/png": "[encoded data removed]",
            "text/plain": [
              "<Figure size 432x288 with 1 Axes>"
            ]
          },
          "metadata": {
            "tags": []
          }
        }
      ]
    },
    {
      "cell_type": "code",
      "metadata": {
        "id": "Z5ntvJjOyqv7",
        "colab_type": "code",
        "colab": {}
      },
      "source": [
        "# Split the dataset\n",
        "test_dataset = dataset.take(5000)\n",
        "train_dataset = dataset.skip(5000)"
      ],
      "execution_count": 0,
      "outputs": []
    },
    {
      "cell_type": "code",
      "metadata": {
        "id": "cPIUhSy8JeQ0",
        "colab_type": "code",
        "colab": {}
      },
      "source": [
        "# Setup the train / test iterators\n",
        "train_dataset = train_dataset.map(preprocess).map(augment).shuffle(1000).batch(32)\n",
        "test_dataset = test_dataset.map(preprocess).batch(32)"
      ],
      "execution_count": 0,
      "outputs": []
    },
    {
      "cell_type": "markdown",
      "metadata": {
        "id": "Q-DWBS2XJrLa",
        "colab_type": "text"
      },
      "source": [
        "### Step 3: Define our convolutional architecture"
      ]
    },
    {
      "cell_type": "code",
      "metadata": {
        "id": "PzS4kBk3zMvd",
        "colab_type": "code",
        "colab": {}
      },
      "source": [
        "from tensorflow.keras import Model\n",
        "from tensorflow.keras import layers, regularizers, initializers"
      ],
      "execution_count": 0,
      "outputs": []
    },
    {
      "cell_type": "code",
      "metadata": {
        "id": "8jS1VHhy0s90",
        "colab_type": "code",
        "colab": {}
      },
      "source": [
        "images = layers.Input(shape=(196, 455, 3))"
      ],
      "execution_count": 0,
      "outputs": []
    },
    {
      "cell_type": "code",
      "metadata": {
        "id": "VTKcrQNr1FbK",
        "colab_type": "code",
        "colab": {}
      },
      "source": [
        "def add_block(x, n_filters, strides=2):\n",
        "    # Convolutional block with custom initialization and regularization\n",
        "    x = layers.Conv2D(n_filters, 5, padding='same', strides=strides, \n",
        "                      kernel_regularizer=regularizers.l2(0.001),\n",
        "                      kernel_initializer=initializers.glorot_normal)(x)\n",
        "    x = layers.BatchNormalization()(x)\n",
        "    x = layers.Activation('relu')(x)\n",
        "\n",
        "    return x"
      ],
      "execution_count": 0,
      "outputs": []
    },
    {
      "cell_type": "code",
      "metadata": {
        "id": "6W6ZoRvj3gym",
        "colab_type": "code",
        "colab": {}
      },
      "source": [
        "x = add_block(images, 32)"
      ],
      "execution_count": 0,
      "outputs": []
    },
    {
      "cell_type": "code",
      "metadata": {
        "id": "351wYvce31pf",
        "colab_type": "code",
        "colab": {}
      },
      "source": [
        "n_blocks = 3\n",
        "for i in range(1, n_blocks + 1):\n",
        "  x = add_block(x, 64 * i)\n",
        "  # TODO: experiment adding more blocks and residual connections\n",
        "  #x = add_block(x, 64 * i, strides=1) + x"
      ],
      "execution_count": 0,
      "outputs": []
    },
    {
      "cell_type": "code",
      "metadata": {
        "id": "j8LrpK1O4UFN",
        "colab_type": "code",
        "colab": {}
      },
      "source": [
        "# Final part with regression block\n",
        "x = layers.Flatten()(x)\n",
        "x = layers.Dropout(0.4)(x)\n",
        "x = layers.Dense(50, activation='relu')(x)\n",
        "x = layers.Dropout(0.4)(x)\n",
        "x = layers.Dense(1, activation='tanh')(x) # The tanh ensures the outputs are properly normalized in [-1.0, 1.0]"
      ],
      "execution_count": 0,
      "outputs": []
    },
    {
      "cell_type": "code",
      "metadata": {
        "id": "oH_eEn_H6O3k",
        "colab_type": "code",
        "colab": {}
      },
      "source": [
        "net = Model(inputs=[images], outputs=[x])"
      ],
      "execution_count": 0,
      "outputs": []
    },
    {
      "cell_type": "code",
      "metadata": {
        "id": "0uOqQfC06bVT",
        "colab_type": "code",
        "outputId": "8c61bd3d-0396-458d-b6d2-64d60b471c34",
        "colab": {
          "base_uri": "https://localhost:8080/",
          "height": 780
        }
      },
      "source": [
        "net.summary()"
      ],
      "execution_count": 97,
      "outputs": [
        {
          "output_type": "stream",
          "text": [
            "Model: \"model_3\"\n",
            "_________________________________________________________________\n",
            "Layer (type)                 Output Shape              Param #   \n",
            "=================================================================\n",
            "input_5 (InputLayer)         [(None, 196, 455, 3)]     0         \n",
            "_________________________________________________________________\n",
            "conv2d_22 (Conv2D)           (None, 98, 228, 32)       2432      \n",
            "_________________________________________________________________\n",
            "batch_normalization_22 (Batc (None, 98, 228, 32)       128       \n",
            "_________________________________________________________________\n",
            "activation_22 (Activation)   (None, 98, 228, 32)       0         \n",
            "_________________________________________________________________\n",
            "conv2d_23 (Conv2D)           (None, 49, 114, 64)       51264     \n",
            "_________________________________________________________________\n",
            "batch_normalization_23 (Batc (None, 49, 114, 64)       256       \n",
            "_________________________________________________________________\n",
            "activation_23 (Activation)   (None, 49, 114, 64)       0         \n",
            "_________________________________________________________________\n",
            "conv2d_24 (Conv2D)           (None, 25, 57, 128)       204928    \n",
            "_________________________________________________________________\n",
            "batch_normalization_24 (Batc (None, 25, 57, 128)       512       \n",
            "_________________________________________________________________\n",
            "activation_24 (Activation)   (None, 25, 57, 128)       0         \n",
            "_________________________________________________________________\n",
            "conv2d_25 (Conv2D)           (None, 13, 29, 192)       614592    \n",
            "_________________________________________________________________\n",
            "batch_normalization_25 (Batc (None, 13, 29, 192)       768       \n",
            "_________________________________________________________________\n",
            "activation_25 (Activation)   (None, 13, 29, 192)       0         \n",
            "_________________________________________________________________\n",
            "flatten_5 (Flatten)          (None, 72384)             0         \n",
            "_________________________________________________________________\n",
            "dropout_10 (Dropout)         (None, 72384)             0         \n",
            "_________________________________________________________________\n",
            "dense_10 (Dense)             (None, 50)                3619250   \n",
            "_________________________________________________________________\n",
            "dropout_11 (Dropout)         (None, 50)                0         \n",
            "_________________________________________________________________\n",
            "dense_11 (Dense)             (None, 1)                 51        \n",
            "=================================================================\n",
            "Total params: 4,494,181\n",
            "Trainable params: 4,493,349\n",
            "Non-trainable params: 832\n",
            "_________________________________________________________________\n"
          ],
          "name": "stdout"
        }
      ]
    },
    {
      "cell_type": "code",
      "metadata": {
        "id": "MwvNmrEl8hGd",
        "colab_type": "code",
        "outputId": "b0e3dc57-bac8-4070-d701-a60d7354b980",
        "colab": {
          "base_uri": "https://localhost:8080/",
          "height": 35
        }
      },
      "source": [
        "# When we enable training, the output changes every single time\n",
        "net(xb, training=True)"
      ],
      "execution_count": 98,
      "outputs": [
        {
          "output_type": "execute_result",
          "data": {
            "text/plain": [
              "<tf.Tensor: id=30887, shape=(1, 1), dtype=float32, numpy=array([[0.95246494]], dtype=float32)>"
            ]
          },
          "metadata": {
            "tags": []
          },
          "execution_count": 98
        }
      ]
    },
    {
      "cell_type": "markdown",
      "metadata": {
        "id": "5O66VAbYKX_0",
        "colab_type": "text"
      },
      "source": [
        "### Step 4: Train the model"
      ]
    },
    {
      "cell_type": "code",
      "metadata": {
        "id": "NCC_F5C97wme",
        "colab_type": "code",
        "colab": {}
      },
      "source": [
        "from tensorflow.keras import losses, optimizers, metrics"
      ],
      "execution_count": 0,
      "outputs": []
    },
    {
      "cell_type": "code",
      "metadata": {
        "id": "ZGYsm8yT7vPe",
        "colab_type": "code",
        "colab": {}
      },
      "source": [
        "# Because this is a regression task, we select the mean-squared error as loss function\n",
        "net.compile(loss=losses.MeanSquaredError(), optimizer=optimizers.RMSprop(0.001))"
      ],
      "execution_count": 0,
      "outputs": []
    },
    {
      "cell_type": "code",
      "metadata": {
        "id": "J-Eeq8FT6kQn",
        "colab_type": "code",
        "outputId": "66ead34a-5c4f-45f2-f527-2bd2445c29f9",
        "colab": {
          "base_uri": "https://localhost:8080/",
          "height": 87
        }
      },
      "source": [
        "history = net.fit(train_dataset, epochs=2)"
      ],
      "execution_count": 101,
      "outputs": [
        {
          "output_type": "stream",
          "text": [
            "Epoch 1/2\n",
            "1256/1256 [==============================] - 218s 173ms/step - loss: 0.5389\n",
            "Epoch 2/2\n",
            "1256/1256 [==============================] - 214s 171ms/step - loss: 0.0196\n"
          ],
          "name": "stdout"
        }
      ]
    },
    {
      "cell_type": "code",
      "metadata": {
        "id": "J4CXK9--UoVP",
        "colab_type": "code",
        "outputId": "3ba6e08c-9238-41fd-e34a-31a8e7c1153c",
        "colab": {
          "base_uri": "https://localhost:8080/",
          "height": 52
        }
      },
      "source": [
        "# Test the final error\n",
        "net.evaluate(test_dataset)"
      ],
      "execution_count": 104,
      "outputs": [
        {
          "output_type": "stream",
          "text": [
            "157/157 [==============================] - 16s 100ms/step - loss: 0.0294\n"
          ],
          "name": "stdout"
        },
        {
          "output_type": "execute_result",
          "data": {
            "text/plain": [
              "0.029351789060873306"
            ]
          },
          "metadata": {
            "tags": []
          },
          "execution_count": 104
        }
      ]
    },
    {
      "cell_type": "markdown",
      "metadata": {
        "id": "ZYpP_r3zKwXr",
        "colab_type": "text"
      },
      "source": [
        "### Step 5: Make inference faster with tf.function"
      ]
    },
    {
      "cell_type": "code",
      "metadata": {
        "id": "hdGOfo3gXAOh",
        "colab_type": "code",
        "colab": {}
      },
      "source": [
        "#@tf.function\n",
        "def predict(x):\n",
        "  return net(x, training=False)"
      ],
      "execution_count": 0,
      "outputs": []
    },
    {
      "cell_type": "code",
      "metadata": {
        "id": "MhPtMl9mXVcj",
        "colab_type": "code",
        "colab": {}
      },
      "source": [
        "for xb, _ in test_dataset.take(1):\n",
        "  _"
      ],
      "execution_count": 0,
      "outputs": []
    },
    {
      "cell_type": "code",
      "metadata": {
        "id": "QkBKgUPnXGZt",
        "colab_type": "code",
        "outputId": "f25c220a-9171-43e3-dcae-c4c5815e8162",
        "colab": {
          "base_uri": "https://localhost:8080/",
          "height": 35
        }
      },
      "source": [
        "# See the difference with and without tf.function\n",
        "%timeit -r 10 -n 5 predict(xb)"
      ],
      "execution_count": 111,
      "outputs": [
        {
          "output_type": "stream",
          "text": [
            "5 loops, best of 10: 34.2 ms per loop\n"
          ],
          "name": "stdout"
        }
      ]
    },
    {
      "cell_type": "markdown",
      "metadata": {
        "id": "1CmGZn4gK20y",
        "colab_type": "text"
      },
      "source": [
        "**TODO**\n",
        "+ Experiment with different architectures! Remove the residual connections, add more blocks...\n",
        "+ Play with different data augmentation strategies.\n",
        "+ Try to visualize the results on different images.\n",
        "+ Also test with different optimizers: in this example we have used RMSProp because it seems to work better, but you can try fine-tuning other optimizers.\n",
        "+ You can also try a simplified classification problem with {go left, go straight, go right}."
      ]
    }
  ]
}