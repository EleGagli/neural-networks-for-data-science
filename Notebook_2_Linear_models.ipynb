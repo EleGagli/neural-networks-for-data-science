{
  "nbformat": 4,
  "nbformat_minor": 0,
  "metadata": {
    "colab": {
      "name": "Notebook_2_linear_models.ipynb",
      "provenance": [],
      "collapsed_sections": []
    },
    "kernelspec": {
      "name": "python3",
      "display_name": "Python 3"
    }
  },
  "cells": [
    {
      "cell_type": "markdown",
      "metadata": {
        "id": "e3Y5DhXzUKob",
        "colab_type": "text"
      },
      "source": [
        "## Neural Networks for Data Science Applications\n",
        "### Lab session 2: Linear models for regression and classification\n",
        "\n",
        "**Contents of the lab session**\n",
        "+ A linear regression example with manual gradient descent.\n",
        "+ A logistic regression example with objects from tf.keras."
      ]
    },
    {
      "cell_type": "code",
      "metadata": {
        "id": "-RKZuzNCsoIm",
        "colab_type": "code",
        "colab": {}
      },
      "source": [
        "# Install TensorFlow 2.0\n",
        "!pip install -q tensorflow==2.0.0"
      ],
      "execution_count": 0,
      "outputs": []
    },
    {
      "cell_type": "code",
      "metadata": {
        "id": "F5StKXvXvrGP",
        "colab_type": "code",
        "colab": {}
      },
      "source": [
        "import tensorflow as tf"
      ],
      "execution_count": 0,
      "outputs": []
    },
    {
      "cell_type": "code",
      "metadata": {
        "id": "yzmwyPsewEvP",
        "colab_type": "code",
        "colab": {}
      },
      "source": [
        "# This command ensures that the first Matplotlib plot is shown inline\n",
        "%matplotlib inline"
      ],
      "execution_count": 0,
      "outputs": []
    },
    {
      "cell_type": "markdown",
      "metadata": {
        "id": "kZQugNBkUvEV",
        "colab_type": "text"
      },
      "source": [
        "### 1.1 - Load and preprocess data for linear regression"
      ]
    },
    {
      "cell_type": "code",
      "metadata": {
        "id": "Ls0qo577wK1z",
        "colab_type": "code",
        "colab": {}
      },
      "source": [
        "# Import some utility modules from sklearn\n",
        "from sklearn import datasets, preprocessing, model_selection"
      ],
      "execution_count": 0,
      "outputs": []
    },
    {
      "cell_type": "code",
      "metadata": {
        "id": "PCT3-j9xxybR",
        "colab_type": "code",
        "colab": {}
      },
      "source": [
        "# Load a simple regression dataset\n",
        "boston = datasets.load_boston()"
      ],
      "execution_count": 0,
      "outputs": []
    },
    {
      "cell_type": "code",
      "metadata": {
        "id": "tslO1S9mx5uZ",
        "colab_type": "code",
        "outputId": "b807430d-7527-498d-d596-fae8c9ce14bc",
        "colab": {
          "base_uri": "https://localhost:8080/",
          "height": 34
        }
      },
      "source": [
        "# The dataset is a dictionary\n",
        "boston.keys()"
      ],
      "execution_count": 0,
      "outputs": [
        {
          "output_type": "execute_result",
          "data": {
            "text/plain": [
              "dict_keys(['data', 'target', 'feature_names', 'DESCR', 'filename'])"
            ]
          },
          "metadata": {
            "tags": []
          },
          "execution_count": 7
        }
      ]
    },
    {
      "cell_type": "code",
      "metadata": {
        "id": "izpjIaLxyLBI",
        "colab_type": "code",
        "colab": {}
      },
      "source": [
        "# Take the input matrix and the output vector\n",
        "X = boston['data']\n",
        "y = boston['target']"
      ],
      "execution_count": 0,
      "outputs": []
    },
    {
      "cell_type": "code",
      "metadata": {
        "id": "LTXSP97qyV_u",
        "colab_type": "code",
        "outputId": "c1f25823-e14a-4a7c-d24f-a23551068d5a",
        "colab": {
          "base_uri": "https://localhost:8080/",
          "height": 34
        }
      },
      "source": [
        "# Inspect the shape of the matrix:\n",
        "# X.shape[0]: number of examples\n",
        "# X.shape[1]: number of features\n",
        "X.shape"
      ],
      "execution_count": 0,
      "outputs": [
        {
          "output_type": "execute_result",
          "data": {
            "text/plain": [
              "(506, 13)"
            ]
          },
          "metadata": {
            "tags": []
          },
          "execution_count": 9
        }
      ]
    },
    {
      "cell_type": "code",
      "metadata": {
        "id": "lXGSMg1dys_M",
        "colab_type": "code",
        "outputId": "e6cded7f-8018-4e6e-c920-d47ccfaf48c3",
        "colab": {
          "base_uri": "https://localhost:8080/",
          "height": 34
        }
      },
      "source": [
        "y[0:10]"
      ],
      "execution_count": 0,
      "outputs": [
        {
          "output_type": "execute_result",
          "data": {
            "text/plain": [
              "array([24. , 21.6, 34.7, 33.4, 36.2, 28.7, 22.9, 27.1, 16.5, 18.9])"
            ]
          },
          "metadata": {
            "tags": []
          },
          "execution_count": 10
        }
      ]
    },
    {
      "cell_type": "code",
      "metadata": {
        "id": "xHbRK3a5y_4M",
        "colab_type": "code",
        "outputId": "51b00e5f-2cdb-471a-ceb1-83f0aee357a4",
        "colab": {
          "base_uri": "https://localhost:8080/",
          "height": 34
        }
      },
      "source": [
        "y.shape"
      ],
      "execution_count": 0,
      "outputs": [
        {
          "output_type": "execute_result",
          "data": {
            "text/plain": [
              "(506,)"
            ]
          },
          "metadata": {
            "tags": []
          },
          "execution_count": 11
        }
      ]
    },
    {
      "cell_type": "code",
      "metadata": {
        "id": "MuWaR2sizHh7",
        "colab_type": "code",
        "colab": {}
      },
      "source": [
        "# Useful to do shape computations easily\n",
        "y = y.reshape(-1, 1)"
      ],
      "execution_count": 0,
      "outputs": []
    },
    {
      "cell_type": "code",
      "metadata": {
        "id": "JkFNNrxCzN5T",
        "colab_type": "code",
        "colab": {}
      },
      "source": [
        "# Normalize the data\n",
        "X = preprocessing.scale(X)\n",
        "y = preprocessing.scale(y)"
      ],
      "execution_count": 0,
      "outputs": []
    },
    {
      "cell_type": "code",
      "metadata": {
        "id": "QIfYQGC_z2Se",
        "colab_type": "code",
        "colab": {}
      },
      "source": [
        "# Split the data into training and test portions\n",
        "Xtrain, Xtest, ytrain, ytest = \\\n",
        "            model_selection.train_test_split(X, y)"
      ],
      "execution_count": 0,
      "outputs": []
    },
    {
      "cell_type": "markdown",
      "metadata": {
        "id": "i4ROx6nhVLgE",
        "colab_type": "text"
      },
      "source": [
        "### 1.2 - Linear regression in TF (low level)"
      ]
    },
    {
      "cell_type": "code",
      "metadata": {
        "id": "Kjf3cPzj0mhX",
        "colab_type": "code",
        "colab": {}
      },
      "source": [
        "# Define a utility function to initialize the model variables\n",
        "# Note: we initialize them as small pseudo-random numbers\n",
        "def model_init(n_features):\n",
        "  w = tf.Variable(\n",
        "        tf.random.normal(shape=(n_features, 1), stddev=0.01, dtype=tf.float64), \n",
        "      )\n",
        "  b = tf.Variable(0.0, dtype=tf.float64)\n",
        "  return w, b"
      ],
      "execution_count": 0,
      "outputs": []
    },
    {
      "cell_type": "code",
      "metadata": {
        "id": "MhKuaZpILNiQ",
        "colab_type": "code",
        "colab": {}
      },
      "source": [
        "w, b = model_init(13)"
      ],
      "execution_count": 0,
      "outputs": []
    },
    {
      "cell_type": "code",
      "metadata": {
        "id": "3zFAiYnK2BzW",
        "colab_type": "code",
        "colab": {}
      },
      "source": [
        "# Compute the linear model outputs\n",
        "def linear_model(x):\n",
        "  return tf.matmul(x, w) + b"
      ],
      "execution_count": 0,
      "outputs": []
    },
    {
      "cell_type": "code",
      "metadata": {
        "id": "cr1w85YZ3NlR",
        "colab_type": "code",
        "outputId": "19ccf11c-8c89-4e10-ea0a-b1cae4e7bb26",
        "colab": {
          "base_uri": "https://localhost:8080/",
          "height": 86
        }
      },
      "source": [
        "linear_model(Xtrain[0:3])"
      ],
      "execution_count": 0,
      "outputs": [
        {
          "output_type": "execute_result",
          "data": {
            "text/plain": [
              "<tf.Tensor: id=24, shape=(3, 1), dtype=float64, numpy=\n",
              "array([[0.0190547 ],\n",
              "       [0.03325769],\n",
              "       [0.03834291]])>"
            ]
          },
          "metadata": {
            "tags": []
          },
          "execution_count": 17
        }
      ]
    },
    {
      "cell_type": "code",
      "metadata": {
        "id": "47oWKvvY31Vk",
        "colab_type": "code",
        "colab": {}
      },
      "source": [
        "# A function to compute the squared loss\n",
        "def squared_loss(ytrue, ypredicted):\n",
        "  return tf.reduce_mean((ytrue - ypredicted)**2.0)"
      ],
      "execution_count": 0,
      "outputs": []
    },
    {
      "cell_type": "code",
      "metadata": {
        "id": "kO-114gb6VVy",
        "colab_type": "code",
        "outputId": "08dc5b32-a061-4e55-eedd-ddcfcc05bffa",
        "colab": {
          "base_uri": "https://localhost:8080/",
          "height": 34
        }
      },
      "source": [
        "squared_loss(ytrain, linear_model(Xtrain))"
      ],
      "execution_count": 0,
      "outputs": [
        {
          "output_type": "execute_result",
          "data": {
            "text/plain": [
              "<tf.Tensor: id=1452644, shape=(), dtype=float64, numpy=2722.854309248313>"
            ]
          },
          "metadata": {
            "tags": []
          },
          "execution_count": 71
        }
      ]
    },
    {
      "cell_type": "code",
      "metadata": {
        "id": "G4h6WL3E6bi3",
        "colab_type": "code",
        "colab": {}
      },
      "source": [
        "# Optimization phase\n",
        "\n",
        "for i in range(1000):\n",
        "  \n",
        "  # Step 1: compute the loss\n",
        "  with tf.GradientTape() as tape:\n",
        "    ypredicted = linear_model(Xtrain)\n",
        "    l = squared_loss(ytrain, ypredicted)\n",
        "    \n",
        "  # Step 2: compute the gradients\n",
        "  g = tape.gradient(l, [w, b]) \n",
        "  \n",
        "  # Step 3: do a gradient descent step\n",
        "  w.assign_sub(0.01 * g[0]) # w = w - \\eta * gradient of l w.r.t. w\n",
        "  b.assign_sub(0.01 * g[1]) # b = b - \\eta * gradient of l w.r.t. b"
      ],
      "execution_count": 0,
      "outputs": []
    },
    {
      "cell_type": "code",
      "metadata": {
        "id": "GyjS0fo99rBb",
        "colab_type": "code",
        "outputId": "0c313b3d-6b09-40db-efa7-da8acffa4f48",
        "colab": {
          "base_uri": "https://localhost:8080/",
          "height": 259
        }
      },
      "source": [
        "w"
      ],
      "execution_count": 0,
      "outputs": [
        {
          "output_type": "execute_result",
          "data": {
            "text/plain": [
              "<tf.Variable 'Variable:0' shape=(13, 1) dtype=float64, numpy=\n",
              "array([[-0.05481841],\n",
              "       [ 0.09820639],\n",
              "       [-0.02990333],\n",
              "       [ 0.04727738],\n",
              "       [-0.19264479],\n",
              "       [ 0.30978357],\n",
              "       [-0.02967521],\n",
              "       [-0.3383542 ],\n",
              "       [ 0.19877823],\n",
              "       [-0.16600745],\n",
              "       [-0.22601543],\n",
              "       [ 0.0687544 ],\n",
              "       [-0.37885501]])>"
            ]
          },
          "metadata": {
            "tags": []
          },
          "execution_count": 21
        }
      ]
    },
    {
      "cell_type": "code",
      "metadata": {
        "id": "RNDfHVng-FiJ",
        "colab_type": "code",
        "outputId": "6fb06e80-29ab-461f-83ea-c4ecfc19108f",
        "colab": {
          "base_uri": "https://localhost:8080/",
          "height": 34
        }
      },
      "source": [
        "# Check the training loss has decreased\n",
        "squared_loss(ytrain, linear_model(Xtrain))"
      ],
      "execution_count": 0,
      "outputs": [
        {
          "output_type": "execute_result",
          "data": {
            "text/plain": [
              "<tf.Tensor: id=36048, shape=(), dtype=float64, numpy=0.2557999458656836>"
            ]
          },
          "metadata": {
            "tags": []
          },
          "execution_count": 22
        }
      ]
    },
    {
      "cell_type": "code",
      "metadata": {
        "id": "h-G3Mxf8-rHp",
        "colab_type": "code",
        "outputId": "d605e9b2-5bc7-4f58-b462-156c63c35d00",
        "colab": {
          "base_uri": "https://localhost:8080/",
          "height": 34
        }
      },
      "source": [
        "# Check the test loss (almost no overfitting in this scenario)\n",
        "squared_loss(ytest, linear_model(Xtest))"
      ],
      "execution_count": 0,
      "outputs": [
        {
          "output_type": "execute_result",
          "data": {
            "text/plain": [
              "<tf.Tensor: id=36059, shape=(), dtype=float64, numpy=0.27910240485065635>"
            ]
          },
          "metadata": {
            "tags": []
          },
          "execution_count": 21
        }
      ]
    },
    {
      "cell_type": "code",
      "metadata": {
        "id": "x9bERv-2ABc3",
        "colab_type": "code",
        "colab": {}
      },
      "source": [
        "# Check that the solution is optimal by computing the closed form solution to the least-squares problem.\n",
        "# (X.T * X)^-1 * X.T * y\n",
        "# Note: in realistic situations there are faster and more numerically stable ways of doing this computation.\n",
        "XX = tf.matmul(X.transpose(), X)\n",
        "Xy = tf.matmul(X.transpose(), y)\n",
        "wopt = tf.matmul(tf.linalg.inv(XX), Xy)"
      ],
      "execution_count": 0,
      "outputs": []
    },
    {
      "cell_type": "code",
      "metadata": {
        "id": "bWtX3nU-DVMo",
        "colab_type": "code",
        "outputId": "31ec5e66-4216-4c8b-ce4c-9c81358c9374",
        "colab": {
          "base_uri": "https://localhost:8080/",
          "height": 286
        }
      },
      "source": [
        "import matplotlib.pyplot as plt\n",
        "plt.plot(wopt - w)\n",
        "plt.plot([0, 12], [0.1, 0.1], '--r')\n",
        "plt.plot([0, 12], [-0.1, -0.1], '--r')"
      ],
      "execution_count": 0,
      "outputs": [
        {
          "output_type": "execute_result",
          "data": {
            "text/plain": [
              "[<matplotlib.lines.Line2D at 0x7fb654f77ba8>]"
            ]
          },
          "metadata": {
            "tags": []
          },
          "execution_count": 29
        },
        {
          "output_type": "display_data",
          "data": {
            "image/png": "[encoded data removed]",
            "text/plain": [
              "<Figure size 432x288 with 1 Axes>"
            ]
          },
          "metadata": {
            "tags": []
          }
        }
      ]
    },
    {
      "cell_type": "markdown",
      "metadata": {
        "id": "T1vo2iZxXiht",
        "colab_type": "text"
      },
      "source": [
        "### 1.3 - Load a binary classification dataset"
      ]
    },
    {
      "cell_type": "code",
      "metadata": {
        "id": "lNO5q23ZEA0D",
        "colab_type": "code",
        "colab": {}
      },
      "source": [
        "breastcancer = datasets.load_breast_cancer()"
      ],
      "execution_count": 0,
      "outputs": []
    },
    {
      "cell_type": "code",
      "metadata": {
        "id": "SqH7Az0WJDjK",
        "colab_type": "code",
        "colab": {}
      },
      "source": [
        "X = breastcancer['data']\n",
        "y = breastcancer['target']"
      ],
      "execution_count": 0,
      "outputs": []
    },
    {
      "cell_type": "code",
      "metadata": {
        "id": "4gGUckplJMVi",
        "colab_type": "code",
        "colab": {}
      },
      "source": [
        "# We do not need to scale the 0/1 y vector\n",
        "X = preprocessing.scale(X)"
      ],
      "execution_count": 0,
      "outputs": []
    },
    {
      "cell_type": "code",
      "metadata": {
        "id": "aBZw0ziYJTTL",
        "colab_type": "code",
        "outputId": "e8cde02e-e510-44b5-9dd9-44e6541645ca",
        "colab": {
          "base_uri": "https://localhost:8080/",
          "height": 34
        }
      },
      "source": [
        "X.shape"
      ],
      "execution_count": 0,
      "outputs": [
        {
          "output_type": "execute_result",
          "data": {
            "text/plain": [
              "(569, 30)"
            ]
          },
          "metadata": {
            "tags": []
          },
          "execution_count": 33
        }
      ]
    },
    {
      "cell_type": "code",
      "metadata": {
        "id": "AZkK3lDuJfS8",
        "colab_type": "code",
        "outputId": "e4b8729b-85f8-4663-879a-51688ead18a8",
        "colab": {
          "base_uri": "https://localhost:8080/",
          "height": 69
        }
      },
      "source": [
        "y[0:50]"
      ],
      "execution_count": 0,
      "outputs": [
        {
          "output_type": "execute_result",
          "data": {
            "text/plain": [
              "array([0, 0, 0, 0, 0, 0, 0, 0, 0, 0, 0, 0, 0, 0, 0, 0, 0, 0, 0, 1, 1, 1,\n",
              "       0, 0, 0, 0, 0, 0, 0, 0, 0, 0, 0, 0, 0, 0, 0, 1, 0, 0, 0, 0, 0, 0,\n",
              "       0, 0, 1, 0, 1, 1])"
            ]
          },
          "metadata": {
            "tags": []
          },
          "execution_count": 35
        }
      ]
    },
    {
      "cell_type": "code",
      "metadata": {
        "id": "FQmn_OZYJgMi",
        "colab_type": "code",
        "outputId": "292cb895-4e42-430a-a0e5-7373d1a8ee53",
        "colab": {
          "base_uri": "https://localhost:8080/",
          "height": 34
        }
      },
      "source": [
        "y.dtype"
      ],
      "execution_count": 0,
      "outputs": [
        {
          "output_type": "execute_result",
          "data": {
            "text/plain": [
              "dtype('int64')"
            ]
          },
          "metadata": {
            "tags": []
          },
          "execution_count": 36
        }
      ]
    },
    {
      "cell_type": "code",
      "metadata": {
        "id": "YgEwvJriJ2uu",
        "colab_type": "code",
        "colab": {}
      },
      "source": [
        "# For compatibility with some TF functions, we need np.int32 values\n",
        "import numpy as np\n",
        "y = y.reshape(-1, 1).astype(np.int32)"
      ],
      "execution_count": 0,
      "outputs": []
    },
    {
      "cell_type": "code",
      "metadata": {
        "id": "5SNkKYqYKB8X",
        "colab_type": "code",
        "colab": {}
      },
      "source": [
        "# Split the data, this time with stratification with respect to y, to ensure the same balancing of classes in train and test\n",
        "Xtrain, Xtest, ytrain, ytest = \\\n",
        "          model_selection.train_test_split(X, y, stratify=y)"
      ],
      "execution_count": 0,
      "outputs": []
    },
    {
      "cell_type": "markdown",
      "metadata": {
        "id": "Tdg_Gy8ZX3na",
        "colab_type": "text"
      },
      "source": [
        "### 1.4 - Logistic regression with some tf.keras utilities"
      ]
    },
    {
      "cell_type": "code",
      "metadata": {
        "id": "gl3jBhLQKxl8",
        "colab_type": "code",
        "colab": {}
      },
      "source": [
        "w, b = model_init(X.shape[1])"
      ],
      "execution_count": 0,
      "outputs": []
    },
    {
      "cell_type": "code",
      "metadata": {
        "id": "E2DWdR4bLi5u",
        "colab_type": "code",
        "colab": {}
      },
      "source": [
        "# Simply wrap the output of a linear model in a sigmoid\n",
        "logreg_model = lambda x: tf.sigmoid(linear_model(x))"
      ],
      "execution_count": 0,
      "outputs": []
    },
    {
      "cell_type": "code",
      "metadata": {
        "id": "nC04O2ZdMJVy",
        "colab_type": "code",
        "colab": {}
      },
      "source": [
        "# tf.keras has a lot of pre-made objects and functions to simplify code development\n",
        "from tensorflow.keras import losses, optimizers, metrics"
      ],
      "execution_count": 0,
      "outputs": []
    },
    {
      "cell_type": "code",
      "metadata": {
        "id": "ZeNJTT78M8gZ",
        "colab_type": "code",
        "colab": {}
      },
      "source": [
        "# Define a loss\n",
        "loss = losses.BinaryCrossentropy()\n",
        "# loss = losses.MeanSquaredError()"
      ],
      "execution_count": 0,
      "outputs": []
    },
    {
      "cell_type": "code",
      "metadata": {
        "id": "zSPFeiNCNGR_",
        "colab_type": "code",
        "colab": {}
      },
      "source": [
        "# Define an optimizer\n",
        "# opt = optimizers.SGD(learning_rate=0.01)\n",
        "opt = optimizers.RMSprop(learning_rate=0.01)"
      ],
      "execution_count": 0,
      "outputs": []
    },
    {
      "cell_type": "code",
      "metadata": {
        "id": "TwhT-rqjNmZx",
        "colab_type": "code",
        "colab": {}
      },
      "source": [
        "ypredicted = logreg_model(Xtrain)"
      ],
      "execution_count": 0,
      "outputs": []
    },
    {
      "cell_type": "code",
      "metadata": {
        "id": "drFUr6OyNyay",
        "colab_type": "code",
        "outputId": "60c96f5b-78a3-487e-c7cd-c2c5835ca8ce",
        "colab": {
          "base_uri": "https://localhost:8080/",
          "height": 210
        }
      },
      "source": [
        "ypredicted[0:10]"
      ],
      "execution_count": 0,
      "outputs": [
        {
          "output_type": "execute_result",
          "data": {
            "text/plain": [
              "<tf.Tensor: id=1452673, shape=(10, 1), dtype=float64, numpy=\n",
              "array([[0.46999973],\n",
              "       [0.4916889 ],\n",
              "       [0.46146135],\n",
              "       [0.49145486],\n",
              "       [0.50755118],\n",
              "       [0.48121933],\n",
              "       [0.47787075],\n",
              "       [0.48504932],\n",
              "       [0.50930721],\n",
              "       [0.5083554 ]])>"
            ]
          },
          "metadata": {
            "tags": []
          },
          "execution_count": 78
        }
      ]
    },
    {
      "cell_type": "code",
      "metadata": {
        "id": "4Z2jlKiYN1Y5",
        "colab_type": "code",
        "outputId": "2e8cb4f8-48ad-41d0-a772-6e376327a809",
        "colab": {
          "base_uri": "https://localhost:8080/",
          "height": 34
        }
      },
      "source": [
        "# Metrics accumulate multiple computations before outputting a result\n",
        "acc = metrics.BinaryAccuracy()\n",
        "acc.update_state(ytrain, ypredicted)\n",
        "acc.result()"
      ],
      "execution_count": 0,
      "outputs": [
        {
          "output_type": "execute_result",
          "data": {
            "text/plain": [
              "<tf.Tensor: id=1452704, shape=(), dtype=float32, numpy=0.46478873>"
            ]
          },
          "metadata": {
            "tags": []
          },
          "execution_count": 79
        }
      ]
    },
    {
      "cell_type": "code",
      "metadata": {
        "id": "fvehLImeOIXg",
        "colab_type": "code",
        "colab": {}
      },
      "source": [
        "all_accuracies = []\n",
        "\n",
        "for i in range(1000):\n",
        "  \n",
        "  with tf.GradientTape() as tape:\n",
        "    ypredicted = logreg_model(Xtrain)\n",
        "    l = loss(ytrain, ypredicted)\n",
        "    \n",
        "  g = tape.gradient(l, [w, b]) \n",
        "  opt.apply_gradients([(g[0], w), (g[1], b)]) # This time, we let the optimizer do this step\n",
        "  # Note: the input is a list of pairs (gradient, variable)\n",
        "  \n",
        "  # Compute the train accuracy at every iteration\n",
        "  acc.reset_states()\n",
        "  acc.update_state(ytrain, ypredicted)\n",
        "  all_accuracies.append(acc.result())"
      ],
      "execution_count": 0,
      "outputs": []
    },
    {
      "cell_type": "code",
      "metadata": {
        "id": "EWrXbIRhRaXi",
        "colab_type": "code",
        "outputId": "4830ae18-9d16-4cd5-9351-458cba324023",
        "colab": {
          "base_uri": "https://localhost:8080/",
          "height": 286
        }
      },
      "source": [
        "import matplotlib.pyplot as plt\n",
        "plt.plot(all_accuracies)"
      ],
      "execution_count": 0,
      "outputs": [
        {
          "output_type": "execute_result",
          "data": {
            "text/plain": [
              "[<matplotlib.lines.Line2D at 0x7fb654efe3c8>]"
            ]
          },
          "metadata": {
            "tags": []
          },
          "execution_count": 81
        },
        {
          "output_type": "display_data",
          "data": {
            "image/png": "[encoded data removed]",
            "text/plain": [
              "<Figure size 432x288 with 1 Axes>"
            ]
          },
          "metadata": {
            "tags": []
          }
        }
      ]
    }
  ]
}
