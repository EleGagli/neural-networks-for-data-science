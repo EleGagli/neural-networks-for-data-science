{
  "nbformat": 4,
  "nbformat_minor": 0,
  "metadata": {
    "colab": {
      "name": "Notebook_extra_Recurrent_neural_networks",
      "provenance": [],
      "collapsed_sections": []
    },
    "kernelspec": {
      "name": "python3",
      "display_name": "Python 3"
    },
    "accelerator": "GPU"
  },
  "cells": [
    {
      "cell_type": "markdown",
      "metadata": {
        "id": "o8d93AD9wBGu",
        "colab_type": "text"
      },
      "source": [
        "# Neural Networks for Data Science Applications\n",
        "## Lab session (extra): Recurrent neural networks\n",
        "\n",
        "**Contents of the lab session:**\n",
        "+ Recurrent neural networks in TensorFlow.\n",
        "+ A simple example by implementing a counting algorithm.\n",
        "+ A more elaborate encoder/decoder on a sorting problem."
      ]
    },
    {
      "cell_type": "code",
      "metadata": {
        "id": "fvU9p2EdaODu",
        "colab_type": "code",
        "outputId": "a8e137f3-2b52-4629-8c1e-96d472b13547",
        "colab": {
          "base_uri": "https://localhost:8080/",
          "height": 156
        }
      },
      "source": [
        "# Remember to enable a GPU on Colab by:\n",
        "# Runtime >> Change runtime type >> Hardware accelerator (before starting the VM).\n",
        "!pip install -q tensorflow-gpu==2.0.0"
      ],
      "execution_count": 1,
      "outputs": [
        {
          "output_type": "stream",
          "text": [
            "\u001b[K     |████████████████████████████████| 380.8MB 41kB/s \n",
            "\u001b[K     |████████████████████████████████| 3.8MB 51.3MB/s \n",
            "\u001b[K     |████████████████████████████████| 450kB 51.2MB/s \n",
            "\u001b[K     |████████████████████████████████| 81kB 9.0MB/s \n",
            "\u001b[31mERROR: tensorflow 1.15.0 has requirement tensorboard<1.16.0,>=1.15.0, but you'll have tensorboard 2.0.2 which is incompatible.\u001b[0m\n",
            "\u001b[31mERROR: tensorflow 1.15.0 has requirement tensorflow-estimator==1.15.1, but you'll have tensorflow-estimator 2.0.1 which is incompatible.\u001b[0m\n",
            "\u001b[31mERROR: tensorboard 2.0.2 has requirement grpcio>=1.24.3, but you'll have grpcio 1.15.0 which is incompatible.\u001b[0m\n",
            "\u001b[31mERROR: google-colab 1.0.0 has requirement google-auth~=1.4.0, but you'll have google-auth 1.7.1 which is incompatible.\u001b[0m\n",
            "\u001b[?25h"
          ],
          "name": "stdout"
        }
      ]
    },
    {
      "cell_type": "code",
      "metadata": {
        "id": "EJxhPrm_sXpd",
        "colab_type": "code",
        "colab": {}
      },
      "source": [
        "import tensorflow as tf"
      ],
      "execution_count": 0,
      "outputs": []
    },
    {
      "cell_type": "markdown",
      "metadata": {
        "id": "twvoyNfNwazk",
        "colab_type": "text"
      },
      "source": [
        "### Example 1: counting with RNNs (fixed length)\n",
        "\n",
        "To show how RNNs work, we consider a very simplified setup where we want to learn a counting algorithm:\n",
        "\n",
        "\n",
        "1.   The RNN receives a sequence of symbols in input (each symbol represented with a one-hot encoding);\n",
        "2.   We output a probability distribution on the most frequent symbol in the sequence.\n",
        "\n",
        "For this first example, all sequences will have the same length.\n",
        "\n"
      ]
    },
    {
      "cell_type": "code",
      "metadata": {
        "id": "QwiH1Ve4rss1",
        "colab_type": "code",
        "colab": {}
      },
      "source": [
        "n_max = 5            # How many symbols we consider\n",
        "max_seq_len = 10     # Length for the sequence\n",
        "units = 100          # Size of the RNN state vector"
      ],
      "execution_count": 0,
      "outputs": []
    },
    {
      "cell_type": "code",
      "metadata": {
        "id": "3yrE6W2WsT8U",
        "colab_type": "code",
        "colab": {}
      },
      "source": [
        "# In order to load data into TF, we first define a generator outputting random training sequences.\n",
        "def gen_seq():\n",
        "  while True: # The generator is infinite\n",
        "    # First generate a random vector of integers in [0, n_max-1]\n",
        "    x = tf.random.uniform(shape=(max_seq_len,), maxval=n_max, dtype=tf.int32)\n",
        "    # Convert the vector to a one-hot representation for the symbols\n",
        "    x = tf.one_hot(x, depth=n_max)\n",
        "    # Get the symbol appearing most frequently\n",
        "    y = tf.argmax(tf.reduce_sum(x, axis=0), axis=0)\n",
        "    yield x, y"
      ],
      "execution_count": 0,
      "outputs": []
    },
    {
      "cell_type": "code",
      "metadata": {
        "id": "Fmz0AtACtD3E",
        "colab_type": "code",
        "colab": {}
      },
      "source": [
        "# Get one sequence\n",
        "X, y = next(gen_seq())"
      ],
      "execution_count": 0,
      "outputs": []
    },
    {
      "cell_type": "code",
      "metadata": {
        "id": "M3OhyCCwxUzv",
        "colab_type": "code",
        "outputId": "71399ab8-a3ef-4d96-b67e-a30c0c507fa1",
        "colab": {
          "base_uri": "https://localhost:8080/",
          "height": 225
        }
      },
      "source": [
        "print(X)\n",
        "print(y)"
      ],
      "execution_count": 6,
      "outputs": [
        {
          "output_type": "stream",
          "text": [
            "tf.Tensor(\n",
            "[[0. 0. 0. 1. 0.]\n",
            " [0. 0. 0. 0. 1.]\n",
            " [0. 1. 0. 0. 0.]\n",
            " [0. 0. 0. 0. 1.]\n",
            " [0. 0. 1. 0. 0.]\n",
            " [0. 0. 0. 1. 0.]\n",
            " [0. 0. 1. 0. 0.]\n",
            " [0. 0. 1. 0. 0.]\n",
            " [0. 0. 1. 0. 0.]\n",
            " [0. 0. 1. 0. 0.]], shape=(10, 5), dtype=float32)\n",
            "tf.Tensor(2, shape=(), dtype=int64)\n"
          ],
          "name": "stdout"
        }
      ]
    },
    {
      "cell_type": "code",
      "metadata": {
        "id": "5Uzof34qX3KO",
        "colab_type": "code",
        "colab": {}
      },
      "source": [
        "# We load the sequences inside a tf.data.Dataset object\n",
        "dataset = tf.data.Dataset.from_generator(lambda: gen_seq(), output_types=(tf.float32, tf.float32))"
      ],
      "execution_count": 0,
      "outputs": []
    },
    {
      "cell_type": "code",
      "metadata": {
        "id": "il3U39YaYEWV",
        "colab_type": "code",
        "outputId": "62ea9530-e058-4ed7-9cfb-7c025bec1482",
        "colab": {
          "base_uri": "https://localhost:8080/",
          "height": 52
        }
      },
      "source": [
        "# Try batching!\n",
        "for xb, yb in dataset.batch(3):\n",
        "  print(xb.shape)\n",
        "  print(yb.shape)\n",
        "  break"
      ],
      "execution_count": 8,
      "outputs": [
        {
          "output_type": "stream",
          "text": [
            "(3, 10, 5)\n",
            "(3,)\n"
          ],
          "name": "stdout"
        }
      ]
    },
    {
      "cell_type": "code",
      "metadata": {
        "id": "6OF7NhQIv-QO",
        "colab_type": "code",
        "colab": {}
      },
      "source": [
        "from tensorflow.keras import layers"
      ],
      "execution_count": 0,
      "outputs": []
    },
    {
      "cell_type": "code",
      "metadata": {
        "id": "elQBuPSPw_hN",
        "colab_type": "code",
        "colab": {}
      },
      "source": [
        "# SimpleRNN corresponds to the basic RNN in the slides\n",
        "rnn = layers.SimpleRNN(units)"
      ],
      "execution_count": 0,
      "outputs": []
    },
    {
      "cell_type": "code",
      "metadata": {
        "id": "9rJLWNz_xn-e",
        "colab_type": "code",
        "colab": {}
      },
      "source": [
        "# Initialize the state vector (note: one state for each sequence in the mini-batch)\n",
        "init_state = tf.zeros(shape=(3, units))"
      ],
      "execution_count": 0,
      "outputs": []
    },
    {
      "cell_type": "code",
      "metadata": {
        "id": "vYUVbNXsxREl",
        "colab_type": "code",
        "colab": {}
      },
      "source": [
        "# Run the RNN!\n",
        "states = tf.identity(init_state)\n",
        "for i in range(max_seq_len):\n",
        "    states = rnn(xb[:, i:i+1, :], states)"
      ],
      "execution_count": 0,
      "outputs": []
    },
    {
      "cell_type": "code",
      "metadata": {
        "id": "5PqAdoabztzo",
        "colab_type": "code",
        "outputId": "a31992bf-e4da-47b4-f1e0-13360d395f9f",
        "colab": {
          "base_uri": "https://localhost:8080/",
          "height": 35
        }
      },
      "source": [
        "states.shape"
      ],
      "execution_count": 13,
      "outputs": [
        {
          "output_type": "execute_result",
          "data": {
            "text/plain": [
              "TensorShape([3, 100])"
            ]
          },
          "metadata": {
            "tags": []
          },
          "execution_count": 13
        }
      ]
    },
    {
      "cell_type": "code",
      "metadata": {
        "id": "T1SGiuwMyEMu",
        "colab_type": "code",
        "colab": {}
      },
      "source": [
        "# Simplified notation: we can let the SimpleRNN object do the loop\n",
        "states2 = rnn(xb, init_state)"
      ],
      "execution_count": 0,
      "outputs": []
    },
    {
      "cell_type": "code",
      "metadata": {
        "id": "B5GMv23ezmyP",
        "colab_type": "code",
        "colab": {}
      },
      "source": [
        "tf.reduce_all(states == states2)"
      ],
      "execution_count": 0,
      "outputs": []
    },
    {
      "cell_type": "code",
      "metadata": {
        "id": "bkKmZynUzug2",
        "colab_type": "code",
        "colab": {}
      },
      "source": [
        "from tensorflow.keras import Sequential, losses, optimizers, metrics"
      ],
      "execution_count": 0,
      "outputs": []
    },
    {
      "cell_type": "code",
      "metadata": {
        "id": "wmUyRunNz4Ku",
        "colab_type": "code",
        "colab": {}
      },
      "source": [
        "# Define our model: \n",
        "# 1. The SimpleRNN computes the state update, returning the state vector after processing the entire sequence.\n",
        "# 2. The Dense layer makes the final prediction (which symbol is most frequent) from the last state.\n",
        "rnn_full = Sequential([\n",
        "      layers.SimpleRNN(units, input_shape=(max_seq_len, n_max)),\n",
        "      layers.Dense(n_max, activation='softmax')\n",
        "])"
      ],
      "execution_count": 0,
      "outputs": []
    },
    {
      "cell_type": "code",
      "metadata": {
        "id": "WPaI6lXL0E1Q",
        "colab_type": "code",
        "colab": {}
      },
      "source": [
        "rnn_full.compile(loss=losses.SparseCategoricalCrossentropy(), optimizer=optimizers.RMSprop(0.001), metrics=['accuracy'])"
      ],
      "execution_count": 0,
      "outputs": []
    },
    {
      "cell_type": "code",
      "metadata": {
        "id": "P11Vpthc0AL2",
        "colab_type": "code",
        "outputId": "32c04102-c4f1-4ed4-b445-2c5b8dbcc0d9",
        "colab": {
          "base_uri": "https://localhost:8080/",
          "height": 225
        }
      },
      "source": [
        "rnn_full.summary()"
      ],
      "execution_count": 17,
      "outputs": [
        {
          "output_type": "stream",
          "text": [
            "Model: \"sequential\"\n",
            "_________________________________________________________________\n",
            "Layer (type)                 Output Shape              Param #   \n",
            "=================================================================\n",
            "simple_rnn_1 (SimpleRNN)     (None, 100)               10600     \n",
            "_________________________________________________________________\n",
            "dense (Dense)                (None, 5)                 505       \n",
            "=================================================================\n",
            "Total params: 11,105\n",
            "Trainable params: 11,105\n",
            "Non-trainable params: 0\n",
            "_________________________________________________________________\n"
          ],
          "name": "stdout"
        }
      ]
    },
    {
      "cell_type": "code",
      "metadata": {
        "id": "vbHC623j0DvP",
        "colab_type": "code",
        "outputId": "b333e36c-754e-49bd-8628-5095186c245f",
        "colab": {
          "base_uri": "https://localhost:8080/",
          "height": 364
        }
      },
      "source": [
        "# Note: because the generator is infinite, we can select manually the size of an epoch.\n",
        "history = rnn_full.fit_generator(dataset.batch(32), steps_per_epoch=100, epochs=10)"
      ],
      "execution_count": 18,
      "outputs": [
        {
          "output_type": "stream",
          "text": [
            "Epoch 1/10\n",
            "100/100 [==============================] - 9s 86ms/step - loss: 0.7964 - accuracy: 0.7094\n",
            "Epoch 2/10\n",
            "100/100 [==============================] - 8s 85ms/step - loss: 0.4963 - accuracy: 0.8191\n",
            "Epoch 3/10\n",
            "100/100 [==============================] - 9s 87ms/step - loss: 0.3976 - accuracy: 0.8597\n",
            "Epoch 4/10\n",
            "100/100 [==============================] - 9s 86ms/step - loss: 0.3503 - accuracy: 0.8737\n",
            "Epoch 5/10\n",
            "100/100 [==============================] - 8s 85ms/step - loss: 0.2986 - accuracy: 0.8944\n",
            "Epoch 6/10\n",
            "100/100 [==============================] - 9s 86ms/step - loss: 0.2695 - accuracy: 0.9097\n",
            "Epoch 7/10\n",
            "100/100 [==============================] - 9s 86ms/step - loss: 0.2683 - accuracy: 0.9044\n",
            "Epoch 8/10\n",
            "100/100 [==============================] - 9s 86ms/step - loss: 0.2462 - accuracy: 0.9125\n",
            "Epoch 9/10\n",
            "100/100 [==============================] - 9s 86ms/step - loss: 0.2314 - accuracy: 0.9191\n",
            "Epoch 10/10\n",
            "100/100 [==============================] - 9s 86ms/step - loss: 0.2202 - accuracy: 0.9250\n"
          ],
          "name": "stdout"
        }
      ]
    },
    {
      "cell_type": "markdown",
      "metadata": {
        "id": "MyWVL9jaz0LA",
        "colab_type": "text"
      },
      "source": [
        "### Example 2: counting with RNNs (variable length)\n",
        "\n",
        "This is the same example as before, but we let the sequences vary in length. This also shows an example of masking inside TensorFlow."
      ]
    },
    {
      "cell_type": "code",
      "metadata": {
        "id": "9zk1m_Wc32sS",
        "colab_type": "code",
        "colab": {}
      },
      "source": [
        "def gen_seq():\n",
        "  while True:\n",
        "\n",
        "    # This is the main modification: for each sequence, we sample a length uniformly in [1, max_seq_len-1]\n",
        "    seq_len = tf.random.uniform(shape=(1,), minval=1, maxval=max_seq_len, dtype=tf.int32)\n",
        "\n",
        "    x = tf.random.uniform(shape=(seq_len[0],), maxval=n_max, dtype=tf.int32)\n",
        "    x = tf.cast(tf.one_hot(x, depth=n_max), tf.float32)\n",
        "    y = tf.argmax(tf.reduce_sum(x, axis=1), axis=0)\n",
        "    yield x, y"
      ],
      "execution_count": 0,
      "outputs": []
    },
    {
      "cell_type": "code",
      "metadata": {
        "id": "hLMZYxdX5Bsq",
        "colab_type": "code",
        "colab": {}
      },
      "source": [
        "dataset = tf.data.Dataset.from_generator(lambda: gen_seq(), output_types=(tf.float32, tf.float32))"
      ],
      "execution_count": 0,
      "outputs": []
    },
    {
      "cell_type": "code",
      "metadata": {
        "id": "rkkcsGcu-INT",
        "colab_type": "code",
        "colab": {}
      },
      "source": [
        "# Because the sequences vary in length, we need padding to make a batch.\n",
        "# The first argument defines the size of the output tensors. We use -1.0 as padding, because 0\n",
        "# is reserved for the first symbol in our encoding.\n",
        "train_it = dataset.padded_batch(3, ([max_seq_len, n_max],[]), padding_values=(-1.0, -1.0))"
      ],
      "execution_count": 0,
      "outputs": []
    },
    {
      "cell_type": "code",
      "metadata": {
        "id": "bYp8lfew4hoC",
        "colab_type": "code",
        "outputId": "c891813d-8e93-4144-e7da-d0e37d9390b9",
        "colab": {
          "base_uri": "https://localhost:8080/",
          "height": 641
        }
      },
      "source": [
        "# Check the result\n",
        "for xb, yb in train_it:\n",
        "  print(xb.shape)\n",
        "  print(yb.shape)\n",
        "  print(xb)\n",
        "  print(yb)\n",
        "  break"
      ],
      "execution_count": 22,
      "outputs": [
        {
          "output_type": "stream",
          "text": [
            "(3, 10, 5)\n",
            "(3,)\n",
            "tf.Tensor(\n",
            "[[[ 0.  1.  0.  0.  0.]\n",
            "  [ 0.  0.  0.  1.  0.]\n",
            "  [ 0.  1.  0.  0.  0.]\n",
            "  [ 0.  0.  0.  1.  0.]\n",
            "  [ 0.  0.  0.  0.  1.]\n",
            "  [ 0.  0.  1.  0.  0.]\n",
            "  [ 0.  0.  0.  0.  1.]\n",
            "  [ 1.  0.  0.  0.  0.]\n",
            "  [-1. -1. -1. -1. -1.]\n",
            "  [-1. -1. -1. -1. -1.]]\n",
            "\n",
            " [[ 0.  1.  0.  0.  0.]\n",
            "  [ 0.  0.  0.  0.  1.]\n",
            "  [ 0.  0.  1.  0.  0.]\n",
            "  [ 0.  0.  0.  1.  0.]\n",
            "  [-1. -1. -1. -1. -1.]\n",
            "  [-1. -1. -1. -1. -1.]\n",
            "  [-1. -1. -1. -1. -1.]\n",
            "  [-1. -1. -1. -1. -1.]\n",
            "  [-1. -1. -1. -1. -1.]\n",
            "  [-1. -1. -1. -1. -1.]]\n",
            "\n",
            " [[ 0.  1.  0.  0.  0.]\n",
            "  [ 0.  0.  1.  0.  0.]\n",
            "  [ 0.  1.  0.  0.  0.]\n",
            "  [ 0.  0.  0.  1.  0.]\n",
            "  [ 1.  0.  0.  0.  0.]\n",
            "  [-1. -1. -1. -1. -1.]\n",
            "  [-1. -1. -1. -1. -1.]\n",
            "  [-1. -1. -1. -1. -1.]\n",
            "  [-1. -1. -1. -1. -1.]\n",
            "  [-1. -1. -1. -1. -1.]]], shape=(3, 10, 5), dtype=float32)\n",
            "tf.Tensor([0. 0. 0.], shape=(3,), dtype=float32)\n"
          ],
          "name": "stdout"
        }
      ]
    },
    {
      "cell_type": "code",
      "metadata": {
        "id": "Z_vpYQcU-GrE",
        "colab_type": "code",
        "colab": {}
      },
      "source": [
        "# Because sequences are padded, we can add a Masking layer to mask the operations\n",
        "# of all subsequent layers, stopping the RNN update as soon as a padding value is encountered.\n",
        "rnn_full_masked = Sequential([\n",
        "      layers.Masking(mask_value=-1, input_shape=(max_seq_len, n_max)),\n",
        "      layers.SimpleRNN(units),\n",
        "      layers.Dense(n_max, activation='softmax')\n",
        "])"
      ],
      "execution_count": 0,
      "outputs": []
    },
    {
      "cell_type": "code",
      "metadata": {
        "id": "0FfTyD__4i93",
        "colab_type": "code",
        "colab": {}
      },
      "source": [
        "rnn_full_masked.compile(loss=losses.SparseCategoricalCrossentropy(), optimizer=optimizers.RMSprop(0.001), metrics=['accuracy'])"
      ],
      "execution_count": 0,
      "outputs": []
    },
    {
      "cell_type": "code",
      "metadata": {
        "id": "B_P05FQw-Z56",
        "colab_type": "code",
        "outputId": "52d85531-f46d-4d0b-cb7f-e2018176e9d0",
        "colab": {
          "base_uri": "https://localhost:8080/",
          "height": 260
        }
      },
      "source": [
        "rnn_full_masked.summary()"
      ],
      "execution_count": 25,
      "outputs": [
        {
          "output_type": "stream",
          "text": [
            "Model: \"sequential_1\"\n",
            "_________________________________________________________________\n",
            "Layer (type)                 Output Shape              Param #   \n",
            "=================================================================\n",
            "masking (Masking)            (None, 10, 5)             0         \n",
            "_________________________________________________________________\n",
            "simple_rnn_2 (SimpleRNN)     (None, 100)               10600     \n",
            "_________________________________________________________________\n",
            "dense_1 (Dense)              (None, 5)                 505       \n",
            "=================================================================\n",
            "Total params: 11,105\n",
            "Trainable params: 11,105\n",
            "Non-trainable params: 0\n",
            "_________________________________________________________________\n"
          ],
          "name": "stdout"
        }
      ]
    },
    {
      "cell_type": "code",
      "metadata": {
        "id": "ctCqPd56-dF6",
        "colab_type": "code",
        "colab": {}
      },
      "source": [
        "train_it = dataset.padded_batch(32, ([max_seq_len, n_max],[]), padding_values=(-1.0, -1.0))\n",
        "history = rnn_full_masked.fit_generator(train_it, steps_per_epoch=100, epochs=10)"
      ],
      "execution_count": 0,
      "outputs": []
    },
    {
      "cell_type": "markdown",
      "metadata": {
        "id": "er4EUTXG08xa",
        "colab_type": "text"
      },
      "source": [
        "### Example 3: sorting with RNNs\n",
        "\n",
        "In this case, we consider a sequence-to-sequence problem, where the output sequence should be a sorted version of the input sequence.\n",
        "\n",
        "To solve the problem, we implement an encoder/decoder architecture. When training, we provide the decoder with the real output sequence (**teacher forcing**). During inference, we instead use the predicted values (autoregressive mode)."
      ]
    },
    {
      "cell_type": "code",
      "metadata": {
        "id": "nXbtZYHz_hcG",
        "colab_type": "code",
        "colab": {}
      },
      "source": [
        "# We output three elements: input sequence, target sequence, and input sequence for the decoder.\n",
        "def gen_sequences(batch_size):\n",
        "  while True:\n",
        "\n",
        "    # Define the input sequence (similar to before)\n",
        "    x = tf.random.uniform(shape=(batch_size, max_seq_len,), maxval=n_max, dtype=tf.int32)\n",
        "    x_onehot = tf.cast(tf.one_hot(x, depth=n_max), tf.float32)\n",
        "    \n",
        "    # This time, the output is a sorted version of the input sequence\n",
        "    y = tf.sort(x, axis=1)\n",
        "    y_onehot = tf.cast(tf.one_hot(y, depth=n_max), tf.float32)\n",
        "\n",
        "    # The output for the decoder is the same as the target sequence, shifted by one \n",
        "    x_dec = tf.concat([tf.zeros((batch_size, 1, n_max), dtype=tf.float32), y_onehot[:, 0:-1, :]], axis=1)\n",
        "\n",
        "    yield [x_onehot, x_dec], y_onehot"
      ],
      "execution_count": 0,
      "outputs": []
    },
    {
      "cell_type": "code",
      "metadata": {
        "id": "7y1ZCqhZACtK",
        "colab_type": "code",
        "outputId": "278cd0df-7689-46ad-cf1a-29b5fe9f4b0f",
        "colab": {
          "base_uri": "https://localhost:8080/",
          "height": 589
        }
      },
      "source": [
        "for xb, yb in gen_sequences(1):\n",
        "  print(xb[0])\n",
        "  print(xb[1])\n",
        "  print(yb)\n",
        "  break"
      ],
      "execution_count": 30,
      "outputs": [
        {
          "output_type": "stream",
          "text": [
            "tf.Tensor(\n",
            "[[[0. 1. 0. 0. 0.]\n",
            "  [0. 0. 0. 0. 1.]\n",
            "  [0. 1. 0. 0. 0.]\n",
            "  [0. 0. 0. 0. 1.]\n",
            "  [0. 1. 0. 0. 0.]\n",
            "  [0. 0. 0. 0. 1.]\n",
            "  [0. 0. 0. 1. 0.]\n",
            "  [0. 0. 1. 0. 0.]\n",
            "  [0. 1. 0. 0. 0.]\n",
            "  [0. 0. 1. 0. 0.]]], shape=(1, 10, 5), dtype=float32)\n",
            "tf.Tensor(\n",
            "[[[0. 0. 0. 0. 0.]\n",
            "  [0. 1. 0. 0. 0.]\n",
            "  [0. 1. 0. 0. 0.]\n",
            "  [0. 1. 0. 0. 0.]\n",
            "  [0. 1. 0. 0. 0.]\n",
            "  [0. 0. 1. 0. 0.]\n",
            "  [0. 0. 1. 0. 0.]\n",
            "  [0. 0. 0. 1. 0.]\n",
            "  [0. 0. 0. 0. 1.]\n",
            "  [0. 0. 0. 0. 1.]]], shape=(1, 10, 5), dtype=float32)\n",
            "tf.Tensor(\n",
            "[[[0. 1. 0. 0. 0.]\n",
            "  [0. 1. 0. 0. 0.]\n",
            "  [0. 1. 0. 0. 0.]\n",
            "  [0. 1. 0. 0. 0.]\n",
            "  [0. 0. 1. 0. 0.]\n",
            "  [0. 0. 1. 0. 0.]\n",
            "  [0. 0. 0. 1. 0.]\n",
            "  [0. 0. 0. 0. 1.]\n",
            "  [0. 0. 0. 0. 1.]\n",
            "  [0. 0. 0. 0. 1.]]], shape=(1, 10, 5), dtype=float32)\n"
          ],
          "name": "stdout"
        }
      ]
    },
    {
      "cell_type": "code",
      "metadata": {
        "id": "GLtKLJlfAXec",
        "colab_type": "code",
        "colab": {}
      },
      "source": [
        "# This time we define everything in functional form, because it is easier. \n",
        "# This part is the encoder. For variety, we use two layers of bidirectional GRUs instead of the SimpleRNN.\n",
        "\n",
        "# Input tensor\n",
        "input_seq = layers.Input(batch_shape=(None, max_seq_len, n_max))\n",
        "\n",
        "# First layer of GRUs. Note the return_sequences keyword, because we need all states (not just the last one)\n",
        "# as input to the next layer.\n",
        "h = layers.Bidirectional(layers.GRU(units, return_sequences=True))(input_seq)\n",
        "\n",
        "# Output state vector\n",
        "out_state = layers.Bidirectional(layers.GRU(units))(h)"
      ],
      "execution_count": 0,
      "outputs": []
    },
    {
      "cell_type": "code",
      "metadata": {
        "id": "r2izVQwBOBWE",
        "colab_type": "code",
        "outputId": "e17f4cdb-0bd2-498b-eaa2-1cf41f494368",
        "colab": {
          "base_uri": "https://localhost:8080/",
          "height": 35
        }
      },
      "source": [
        "# This is 100*2 because the last GRU is bidirectional.\n",
        "out_state.shape"
      ],
      "execution_count": 32,
      "outputs": [
        {
          "output_type": "execute_result",
          "data": {
            "text/plain": [
              "TensorShape([None, 200])"
            ]
          },
          "metadata": {
            "tags": []
          },
          "execution_count": 32
        }
      ]
    },
    {
      "cell_type": "code",
      "metadata": {
        "id": "SqVMqc1dbeFn",
        "colab_type": "code",
        "colab": {}
      },
      "source": [
        "# During decoding, we will feed the last state vector continuously as input to the decoder.\n",
        "out_state = layers.RepeatVector(max_seq_len)(out_state)"
      ],
      "execution_count": 0,
      "outputs": []
    },
    {
      "cell_type": "code",
      "metadata": {
        "id": "bdJgb4GNOrp7",
        "colab_type": "code",
        "colab": {}
      },
      "source": [
        "# The input to the decoder is encoder's state + the last prediction (in this case, the real one).\n",
        "input_dec = layers.Input(batch_shape=(None, max_seq_len, n_max))\n",
        "out_state = layers.Concatenate()([input_dec, out_state])"
      ],
      "execution_count": 0,
      "outputs": []
    },
    {
      "cell_type": "code",
      "metadata": {
        "id": "KTh1UV4Gbpxd",
        "colab_type": "code",
        "outputId": "00b25bb1-9062-484d-85f7-b2546772383a",
        "colab": {
          "base_uri": "https://localhost:8080/",
          "height": 35
        }
      },
      "source": [
        "out_state.shape"
      ],
      "execution_count": 35,
      "outputs": [
        {
          "output_type": "execute_result",
          "data": {
            "text/plain": [
              "TensorShape([None, 10, 205])"
            ]
          },
          "metadata": {
            "tags": []
          },
          "execution_count": 35
        }
      ]
    },
    {
      "cell_type": "code",
      "metadata": {
        "id": "PsWppJGYDgXP",
        "colab_type": "code",
        "colab": {}
      },
      "source": [
        "# The decoder is also another GRU.\n",
        "dec_state = layers.GRU(units, return_sequences=True)(tf.concat([input_dec, out_state], axis=2))"
      ],
      "execution_count": 0,
      "outputs": []
    },
    {
      "cell_type": "code",
      "metadata": {
        "id": "BcOtGK1YDrMT",
        "colab_type": "code",
        "colab": {}
      },
      "source": [
        "# We make one prediction for each time-step with a TimeDistributed layer.\n",
        "ypred = layers.TimeDistributed(layers.Dense(n_max, activation='softmax'), batch_input_shape=(None, max_seq_len, n_max))(dec_state)"
      ],
      "execution_count": 0,
      "outputs": []
    },
    {
      "cell_type": "code",
      "metadata": {
        "id": "LnZP3Ou9D5o7",
        "colab_type": "code",
        "colab": {}
      },
      "source": [
        "from tensorflow.keras import Model\n",
        "model = Model(inputs=[input_seq, input_dec], outputs=[ypred])"
      ],
      "execution_count": 0,
      "outputs": []
    },
    {
      "cell_type": "code",
      "metadata": {
        "id": "Lrw1qSDKLBXJ",
        "colab_type": "code",
        "outputId": "0f36f960-e2ea-4d89-d451-bbdec57e7e95",
        "colab": {
          "base_uri": "https://localhost:8080/",
          "height": 35
        }
      },
      "source": [
        "model.predict(xb).shape"
      ],
      "execution_count": 39,
      "outputs": [
        {
          "output_type": "execute_result",
          "data": {
            "text/plain": [
              "(1, 10, 5)"
            ]
          },
          "metadata": {
            "tags": []
          },
          "execution_count": 39
        }
      ]
    },
    {
      "cell_type": "code",
      "metadata": {
        "id": "zjHZCuOXELbz",
        "colab_type": "code",
        "colab": {}
      },
      "source": [
        "model.compile(loss=losses.CategoricalCrossentropy(), optimizer=optimizers.RMSprop(0.001), metrics=['accuracy'])"
      ],
      "execution_count": 0,
      "outputs": []
    },
    {
      "cell_type": "code",
      "metadata": {
        "id": "4KkiVw8rJX1-",
        "colab_type": "code",
        "outputId": "7d6d906d-acd1-4269-8e21-60b7112b641c",
        "colab": {
          "base_uri": "https://localhost:8080/",
          "height": 503
        }
      },
      "source": [
        "model.summary()"
      ],
      "execution_count": 41,
      "outputs": [
        {
          "output_type": "stream",
          "text": [
            "Model: \"model\"\n",
            "__________________________________________________________________________________________________\n",
            "Layer (type)                    Output Shape         Param #     Connected to                     \n",
            "==================================================================================================\n",
            "input_1 (InputLayer)            [(None, 10, 5)]      0                                            \n",
            "__________________________________________________________________________________________________\n",
            "bidirectional (Bidirectional)   (None, 10, 200)      64200       input_1[0][0]                    \n",
            "__________________________________________________________________________________________________\n",
            "bidirectional_1 (Bidirectional) (None, 200)          181200      bidirectional[0][0]              \n",
            "__________________________________________________________________________________________________\n",
            "input_2 (InputLayer)            [(None, 10, 5)]      0                                            \n",
            "__________________________________________________________________________________________________\n",
            "repeat_vector (RepeatVector)    (None, 10, 200)      0           bidirectional_1[0][0]            \n",
            "__________________________________________________________________________________________________\n",
            "concatenate (Concatenate)       (None, 10, 205)      0           input_2[0][0]                    \n",
            "                                                                 repeat_vector[0][0]              \n",
            "__________________________________________________________________________________________________\n",
            "tf_op_layer_concat (TensorFlowO [(None, 10, 210)]    0           input_2[0][0]                    \n",
            "                                                                 concatenate[0][0]                \n",
            "__________________________________________________________________________________________________\n",
            "gru_2 (GRU)                     (None, 10, 100)      93600       tf_op_layer_concat[0][0]         \n",
            "__________________________________________________________________________________________________\n",
            "time_distributed (TimeDistribut (None, 10, 5)        505         gru_2[0][0]                      \n",
            "==================================================================================================\n",
            "Total params: 339,505\n",
            "Trainable params: 339,505\n",
            "Non-trainable params: 0\n",
            "__________________________________________________________________________________________________\n"
          ],
          "name": "stdout"
        }
      ]
    },
    {
      "cell_type": "code",
      "metadata": {
        "id": "xQiJ0KdNJZfl",
        "colab_type": "code",
        "outputId": "cf0a0405-13fe-4937-e757-93b6a7c2e0cd",
        "colab": {
          "base_uri": "https://localhost:8080/",
          "height": 364
        }
      },
      "source": [
        "history = model.fit_generator(gen_sequences(32), steps_per_epoch=100, epochs=10)"
      ],
      "execution_count": 42,
      "outputs": [
        {
          "output_type": "stream",
          "text": [
            "Epoch 1/10\n",
            "100/100 [==============================] - 10s 98ms/step - loss: 0.5363 - accuracy: 0.8075\n",
            "Epoch 2/10\n",
            "100/100 [==============================] - 10s 99ms/step - loss: 0.1849 - accuracy: 0.9456\n",
            "Epoch 3/10\n",
            "100/100 [==============================] - 10s 104ms/step - loss: 0.1179 - accuracy: 0.9677\n",
            "Epoch 4/10\n",
            "100/100 [==============================] - 10s 103ms/step - loss: 0.0765 - accuracy: 0.9818\n",
            "Epoch 5/10\n",
            "100/100 [==============================] - 10s 104ms/step - loss: 0.0638 - accuracy: 0.9843\n",
            "Epoch 6/10\n",
            "100/100 [==============================] - 11s 105ms/step - loss: 0.0497 - accuracy: 0.9882\n",
            "Epoch 7/10\n",
            "100/100 [==============================] - 11s 106ms/step - loss: 0.0492 - accuracy: 0.9861\n",
            "Epoch 8/10\n",
            "100/100 [==============================] - 11s 108ms/step - loss: 0.0386 - accuracy: 0.9910\n",
            "Epoch 9/10\n",
            "100/100 [==============================] - 11s 108ms/step - loss: 0.0348 - accuracy: 0.9905\n",
            "Epoch 10/10\n",
            "100/100 [==============================] - 11s 109ms/step - loss: 0.0412 - accuracy: 0.9902\n"
          ],
          "name": "stdout"
        }
      ]
    },
    {
      "cell_type": "code",
      "metadata": {
        "id": "R9KBvJzwPc37",
        "colab_type": "code",
        "outputId": "bf86f64f-97ce-498b-e414-2944710ff2f4",
        "colab": {
          "base_uri": "https://localhost:8080/",
          "height": 287
        }
      },
      "source": [
        "import matplotlib.pyplot as plt\n",
        "plt.plot(history.history['accuracy'])"
      ],
      "execution_count": 43,
      "outputs": [
        {
          "output_type": "execute_result",
          "data": {
            "text/plain": [
              "[<matplotlib.lines.Line2D at 0x7f19157184a8>]"
            ]
          },
          "metadata": {
            "tags": []
          },
          "execution_count": 43
        },
        {
          "output_type": "display_data",
          "data": {
            "image/png": "[encoded data removed]",
            "text/plain": [
              "<Figure size 432x288 with 1 Axes>"
            ]
          },
          "metadata": {
            "tags": []
          }
        }
      ]
    },
    {
      "cell_type": "code",
      "metadata": {
        "id": "NuayaautPh4S",
        "colab_type": "code",
        "colab": {}
      },
      "source": [
        "# Test the architecture\n",
        "xb, yb = next(gen_sequences(1))"
      ],
      "execution_count": 0,
      "outputs": []
    },
    {
      "cell_type": "code",
      "metadata": {
        "id": "ZC8v1_n1PjWX",
        "colab_type": "code",
        "outputId": "9ecb1992-47ce-4105-a006-27cac15e4e36",
        "colab": {
          "base_uri": "https://localhost:8080/",
          "height": 35
        }
      },
      "source": [
        "tf.argmax(xb[0], axis=2)"
      ],
      "execution_count": 45,
      "outputs": [
        {
          "output_type": "execute_result",
          "data": {
            "text/plain": [
              "<tf.Tensor: id=2190909, shape=(1, 10), dtype=int64, numpy=array([[4, 1, 1, 4, 1, 3, 2, 3, 3, 0]])>"
            ]
          },
          "metadata": {
            "tags": []
          },
          "execution_count": 45
        }
      ]
    },
    {
      "cell_type": "code",
      "metadata": {
        "id": "Vo416SulPm_n",
        "colab_type": "code",
        "outputId": "6b57f3fa-dbce-4b3f-accd-e40320a66ec6",
        "colab": {
          "base_uri": "https://localhost:8080/",
          "height": 35
        }
      },
      "source": [
        "tf.argmax(model.predict(xb), axis=2)"
      ],
      "execution_count": 46,
      "outputs": [
        {
          "output_type": "execute_result",
          "data": {
            "text/plain": [
              "<tf.Tensor: id=2193052, shape=(1, 10), dtype=int64, numpy=array([[0, 1, 1, 1, 2, 3, 3, 3, 4, 4]])>"
            ]
          },
          "metadata": {
            "tags": []
          },
          "execution_count": 46
        }
      ]
    },
    {
      "cell_type": "code",
      "metadata": {
        "id": "E-K9cUsdPvl_",
        "colab_type": "code",
        "outputId": "c1d7b74a-6b4b-4f48-f8a5-89b756eda560",
        "colab": {
          "base_uri": "https://localhost:8080/",
          "height": 35
        }
      },
      "source": [
        "xb[0].shape"
      ],
      "execution_count": 47,
      "outputs": [
        {
          "output_type": "execute_result",
          "data": {
            "text/plain": [
              "TensorShape([1, 10, 5])"
            ]
          },
          "metadata": {
            "tags": []
          },
          "execution_count": 47
        }
      ]
    },
    {
      "cell_type": "code",
      "metadata": {
        "id": "hpZunGdycVA4",
        "colab_type": "code",
        "colab": {}
      },
      "source": [
        "# TODO: replicate the evaluation, without teacher forcing"
      ],
      "execution_count": 0,
      "outputs": []
    }
  ]
}