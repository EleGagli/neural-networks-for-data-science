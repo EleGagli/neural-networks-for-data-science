{
 "cells": [
  {
   "cell_type": "markdown",
   "metadata": {
    "colab_type": "text",
    "id": "RnacmDDKr1ed"
   },
   "source": [
    "# Neural Networks for Data Science Applications\n",
    "\n",
    "## Lab session 1: TensorFlow 2.0 basics & Automatic differentiation\n",
    "\n",
    "**Contents of the lab session**:\n",
    "* Linear algebra in TensorFlow.\n",
    "* Automatic gradient computation with tf.GradientTape.\n",
    "* Simple example of gradient descent."
   ]
  },
  {
   "cell_type": "code",
   "execution_count": 0,
   "metadata": {
    "colab": {},
    "colab_type": "code",
    "id": "qWW6GORKtaT3"
   },
   "outputs": [],
   "source": [
    "# Install the latest version of TF\n",
    "# The '!' sign means a command that is executed externally\n",
    "!pip install tensorflow==2.0.0"
   ]
  },
  {
   "cell_type": "markdown",
   "metadata": {
    "colab_type": "text",
    "id": "UKlXIe-DsTox"
   },
   "source": [
    "### 1 - Linear algebra"
   ]
  },
  {
   "cell_type": "code",
   "execution_count": 28,
   "metadata": {
    "colab": {},
    "colab_type": "code",
    "id": "GwNQKhmEuoJz"
   },
   "outputs": [],
   "source": [
    "import tensorflow as tf"
   ]
  },
  {
   "cell_type": "code",
   "execution_count": 29,
   "metadata": {
    "colab": {
     "base_uri": "https://localhost:8080/",
     "height": 34
    },
    "colab_type": "code",
    "id": "b91S_4m_vi5-",
    "outputId": "3c19a2e9-0a69-4f3c-a70e-33c79433cbc6"
   },
   "outputs": [
    {
     "data": {
      "text/plain": [
       "'2.0.0'"
      ]
     },
     "execution_count": 29,
     "metadata": {},
     "output_type": "execute_result"
    }
   ],
   "source": [
    "# Check the version\n",
    "tf.__version__"
   ]
  },
  {
   "cell_type": "code",
   "execution_count": 30,
   "metadata": {
    "colab": {
     "base_uri": "https://localhost:8080/",
     "height": 34
    },
    "colab_type": "code",
    "id": "35abT2ymv-9c",
    "outputId": "29f3763f-eba5-4f94-9f0f-a74e0f83ad36"
   },
   "outputs": [
    {
     "data": {
      "text/plain": [
       "True"
      ]
     },
     "execution_count": 30,
     "metadata": {},
     "output_type": "execute_result"
    }
   ],
   "source": [
    "# Check whether a GPU is available\n",
    "# Hint: try to enable one from Runtime >> Change Runtime Type in Colab, and installling tensorflow-gpu.\n",
    "tf.test.is_gpu_available()"
   ]
  },
  {
   "cell_type": "code",
   "execution_count": 31,
   "metadata": {
    "colab": {},
    "colab_type": "code",
    "id": "8gCYlBpywWMk"
   },
   "outputs": [],
   "source": [
    "# Simple matrix in NumPy\n",
    "import numpy as np\n",
    "A = np.random.rand(3, 2)"
   ]
  },
  {
   "cell_type": "code",
   "execution_count": 32,
   "metadata": {
    "colab": {
     "base_uri": "https://localhost:8080/",
     "height": 69
    },
    "colab_type": "code",
    "id": "1Axouagrw8x5",
    "outputId": "415120d8-2587-40f2-cf57-5cb3b916e9e7"
   },
   "outputs": [
    {
     "data": {
      "text/plain": [
       "array([[0.74938785, 0.0231844 ],\n",
       "       [0.15683247, 0.35414634],\n",
       "       [0.91603059, 0.58474034]])"
      ]
     },
     "execution_count": 32,
     "metadata": {},
     "output_type": "execute_result"
    }
   ],
   "source": [
    "A"
   ]
  },
  {
   "cell_type": "code",
   "execution_count": 33,
   "metadata": {
    "colab": {
     "base_uri": "https://localhost:8080/",
     "height": 86
    },
    "colab_type": "code",
    "id": "h0qGHk0fw_HS",
    "outputId": "36a6022a-105c-47a1-dd88-f32739077769"
   },
   "outputs": [
    {
     "data": {
      "text/plain": [
       "<tf.Tensor: id=119, shape=(3, 2), dtype=float32, numpy=\n",
       "array([[-1.4990163 ,  0.27213487],\n",
       "       [-1.3617032 , -0.14722687],\n",
       "       [ 0.05711011, -1.3862321 ]], dtype=float32)>"
      ]
     },
     "execution_count": 33,
     "metadata": {},
     "output_type": "execute_result"
    }
   ],
   "source": [
    "# Similar sintax in TF\n",
    "tf.random.normal((3, 2))"
   ]
  },
  {
   "cell_type": "code",
   "execution_count": 34,
   "metadata": {
    "colab": {},
    "colab_type": "code",
    "id": "y6ugoeGDxTWy"
   },
   "outputs": [],
   "source": [
    "# Default type is tf.float32, but you can force a different one\n",
    "B = tf.ones((5, 4), dtype=tf.float64)"
   ]
  },
  {
   "cell_type": "code",
   "execution_count": 35,
   "metadata": {
    "colab": {
     "base_uri": "https://localhost:8080/",
     "height": 121
    },
    "colab_type": "code",
    "id": "_BHRRXC9x9KW",
    "outputId": "1f9542da-1042-4399-cbba-d8e6c60d445b"
   },
   "outputs": [
    {
     "data": {
      "text/plain": [
       "<tf.Tensor: id=123, shape=(5, 4), dtype=int32, numpy=\n",
       "array([[1, 1, 1, 1],\n",
       "       [1, 1, 1, 1],\n",
       "       [1, 1, 1, 1],\n",
       "       [1, 1, 1, 1],\n",
       "       [1, 1, 1, 1]])>"
      ]
     },
     "execution_count": 35,
     "metadata": {},
     "output_type": "execute_result"
    }
   ],
   "source": [
    "# Casting in TF\n",
    "tf.cast(B, tf.int32)"
   ]
  },
  {
   "cell_type": "code",
   "execution_count": 36,
   "metadata": {
    "colab": {
     "base_uri": "https://localhost:8080/",
     "height": 86
    },
    "colab_type": "code",
    "id": "dbUJE2JSyY-h",
    "outputId": "8a2a2c95-a738-4e14-9656-278f14c08cf3"
   },
   "outputs": [
    {
     "data": {
      "text/plain": [
       "<tf.Tensor: id=124, shape=(3, 2), dtype=float64, numpy=\n",
       "array([[0.74938785, 0.0231844 ],\n",
       "       [0.15683247, 0.35414634],\n",
       "       [0.91603059, 0.58474034]])>"
      ]
     },
     "execution_count": 36,
     "metadata": {},
     "output_type": "execute_result"
    }
   ],
   "source": [
    "# NumPy --> TensorFlow\n",
    "tf.constant(A)"
   ]
  },
  {
   "cell_type": "code",
   "execution_count": 37,
   "metadata": {
    "colab": {
     "base_uri": "https://localhost:8080/",
     "height": 103
    },
    "colab_type": "code",
    "id": "kskupNrXyuiw",
    "outputId": "080399d9-646a-488e-d8f6-190aad903c6c"
   },
   "outputs": [
    {
     "data": {
      "text/plain": [
       "array([[1., 1., 1., 1.],\n",
       "       [1., 1., 1., 1.],\n",
       "       [1., 1., 1., 1.],\n",
       "       [1., 1., 1., 1.],\n",
       "       [1., 1., 1., 1.]])"
      ]
     },
     "execution_count": 37,
     "metadata": {},
     "output_type": "execute_result"
    }
   ],
   "source": [
    "# TensorFlow --> NumPy\n",
    "B.numpy()"
   ]
  },
  {
   "cell_type": "code",
   "execution_count": 38,
   "metadata": {
    "colab": {
     "base_uri": "https://localhost:8080/",
     "height": 34
    },
    "colab_type": "code",
    "id": "jK72SEvNzAjr",
    "outputId": "852cb296-97ad-45c9-9e7e-3e1d4e0363b1"
   },
   "outputs": [
    {
     "data": {
      "text/plain": [
       "TensorShape([5, 4])"
      ]
     },
     "execution_count": 38,
     "metadata": {},
     "output_type": "execute_result"
    }
   ],
   "source": [
    "B.shape"
   ]
  },
  {
   "cell_type": "code",
   "execution_count": 39,
   "metadata": {
    "colab": {},
    "colab_type": "code",
    "id": "ObGtmHE3zUgW"
   },
   "outputs": [
    {
     "name": "stdout",
     "output_type": "stream",
     "text": [
      "tf.Tensor([1. 1. 1. 1.], shape=(4,), dtype=float64)\n",
      "tf.Tensor(1.0, shape=(), dtype=float64)\n",
      "tf.Tensor(\n",
      "[[1. 1. 1. 1.]\n",
      " [1. 1. 1. 1.]], shape=(2, 4), dtype=float64)\n",
      "tf.Tensor([1. 1. 1. 1.], shape=(4,), dtype=float64)\n"
     ]
    }
   ],
   "source": [
    "# Simple indexing\n",
    "print(B[0])\n",
    "print(B[0, 3])\n",
    "print(B[0:2])\n",
    "print(B[-1])"
   ]
  },
  {
   "cell_type": "code",
   "execution_count": 40,
   "metadata": {
    "colab": {
     "base_uri": "https://localhost:8080/",
     "height": 34
    },
    "colab_type": "code",
    "id": "RyseiZQg0Q7V",
    "outputId": "0fadecc7-d6f3-430d-b995-ae99449dce69"
   },
   "outputs": [
    {
     "data": {
      "text/plain": [
       "array([1.8222509 , 0.96207107])"
      ]
     },
     "execution_count": 40,
     "metadata": {},
     "output_type": "execute_result"
    }
   ],
   "source": [
    "# Getting summaries from an array (NumPy version)\n",
    "A.sum(axis=0)"
   ]
  },
  {
   "cell_type": "code",
   "execution_count": 41,
   "metadata": {
    "colab": {
     "base_uri": "https://localhost:8080/",
     "height": 54
    },
    "colab_type": "code",
    "id": "tN2gO9Jj0fwx",
    "outputId": "3a5bcd11-8a91-4e5f-8174-479c9aa0d4b9"
   },
   "outputs": [
    {
     "data": {
      "text/plain": [
       "<tf.Tensor: id=142, shape=(5,), dtype=float64, numpy=array([4., 4., 4., 4., 4.])>"
      ]
     },
     "execution_count": 41,
     "metadata": {},
     "output_type": "execute_result"
    }
   ],
   "source": [
    "# Getting summaries from an array (TensorFlow version)\n",
    "tf.reduce_sum(B, axis=1)"
   ]
  },
  {
   "cell_type": "code",
   "execution_count": 42,
   "metadata": {
    "colab": {
     "base_uri": "https://localhost:8080/",
     "height": 121
    },
    "colab_type": "code",
    "id": "JOKf2lN506Ws",
    "outputId": "624844a5-bfa7-4ca5-ce45-e0277d82c797"
   },
   "outputs": [
    {
     "data": {
      "text/plain": [
       "<tf.Tensor: id=143, shape=(5, 4), dtype=float64, numpy=\n",
       "array([[1., 1., 1., 1.],\n",
       "       [1., 1., 1., 1.],\n",
       "       [1., 1., 1., 1.],\n",
       "       [1., 1., 1., 1.],\n",
       "       [1., 1., 1., 1.]])>"
      ]
     },
     "execution_count": 42,
     "metadata": {},
     "output_type": "execute_result"
    }
   ],
   "source": [
    "# All operators are element-wise\n",
    "B * B"
   ]
  },
  {
   "cell_type": "code",
   "execution_count": 43,
   "metadata": {
    "colab": {
     "base_uri": "https://localhost:8080/",
     "height": 121
    },
    "colab_type": "code",
    "id": "9hAm0QgL1I5u",
    "outputId": "f5450940-918b-43a0-b899-d98d7c1f49b2"
   },
   "outputs": [
    {
     "data": {
      "text/plain": [
       "array([[0.74938785],\n",
       "       [0.0231844 ],\n",
       "       [0.15683247],\n",
       "       [0.35414634],\n",
       "       [0.91603059],\n",
       "       [0.58474034]])"
      ]
     },
     "execution_count": 43,
     "metadata": {},
     "output_type": "execute_result"
    }
   ],
   "source": [
    "# Reshaping in NumPy\n",
    "A.reshape(6, 1)"
   ]
  },
  {
   "cell_type": "code",
   "execution_count": 44,
   "metadata": {
    "colab": {
     "base_uri": "https://localhost:8080/",
     "height": 103
    },
    "colab_type": "code",
    "id": "CkebDGvS1gf8",
    "outputId": "0702bb8d-f80f-4fca-fbd0-83cc129e9025"
   },
   "outputs": [
    {
     "data": {
      "text/plain": [
       "<tf.Tensor: id=145, shape=(4, 5), dtype=float64, numpy=\n",
       "array([[1., 1., 1., 1., 1.],\n",
       "       [1., 1., 1., 1., 1.],\n",
       "       [1., 1., 1., 1., 1.],\n",
       "       [1., 1., 1., 1., 1.]])>"
      ]
     },
     "execution_count": 44,
     "metadata": {},
     "output_type": "execute_result"
    }
   ],
   "source": [
    "# Reshaping in TensorFlow\n",
    "tf.reshape(B, (4, 5))"
   ]
  },
  {
   "cell_type": "code",
   "execution_count": 45,
   "metadata": {
    "colab": {},
    "colab_type": "code",
    "id": "0Ti9HEsz1oBl"
   },
   "outputs": [
    {
     "data": {
      "text/plain": [
       "<tf.Tensor: id=160, shape=(1, 3), dtype=float32, numpy=array([[0.62116194, 0.5398861 , 0.41171944]], dtype=float32)>"
      ]
     },
     "execution_count": 45,
     "metadata": {},
     "output_type": "execute_result"
    }
   ],
   "source": [
    "# Broadcasting (once)\n",
    "A = tf.random.uniform((3,))\n",
    "B = tf.random.uniform((1, 3))\n",
    "A + B"
   ]
  },
  {
   "cell_type": "code",
   "execution_count": 46,
   "metadata": {
    "colab": {},
    "colab_type": "code",
    "id": "tUeq-Nzo3i4Q"
   },
   "outputs": [
    {
     "data": {
      "text/plain": [
       "<tf.Tensor: id=175, shape=(4, 3, 5), dtype=float32, numpy=\n",
       "array([[[0.9486724 , 1.1885365 , 0.87226427, 1.0035003 , 1.0493634 ],\n",
       "        [1.4289199 , 1.0050846 , 0.83817303, 1.3996103 , 0.8362688 ],\n",
       "        [0.73816204, 0.6234211 , 1.0687822 , 0.8923527 , 1.2444386 ]],\n",
       "\n",
       "       [[1.0563859 , 1.29625   , 0.9799777 , 1.1112138 , 1.1570768 ],\n",
       "        [1.3357016 , 0.9118663 , 0.7449547 , 1.306392  , 0.74305046],\n",
       "        [0.6507065 , 0.53596556, 0.9813267 , 0.8048972 , 1.1569831 ]],\n",
       "\n",
       "       [[1.0514582 , 1.2913224 , 0.9750501 , 1.1062862 , 1.1521492 ],\n",
       "        [1.1820742 , 0.7582389 , 0.5913273 , 1.1527646 , 0.58942306],\n",
       "        [1.1646985 , 1.0499575 , 1.4953187 , 1.3188891 , 1.6709751 ]],\n",
       "\n",
       "       [[0.87626755, 1.1161317 , 0.7998594 , 0.9310955 , 0.9769585 ],\n",
       "        [0.98682034, 0.56298506, 0.39607346, 0.9575107 , 0.3941692 ],\n",
       "        [0.34204364, 0.22730267, 0.6726638 , 0.4962343 , 0.84832025]]],\n",
       "      dtype=float32)>"
      ]
     },
     "execution_count": 46,
     "metadata": {},
     "output_type": "execute_result"
    }
   ],
   "source": [
    "# Broadcasting (twice)\n",
    "A = tf.random.uniform((4, 3, 1))\n",
    "B = tf.random.uniform((1, 3, 5))\n",
    "A + B"
   ]
  },
  {
   "cell_type": "markdown",
   "metadata": {
    "colab_type": "text",
    "id": "14hiU8L7ts06"
   },
   "source": [
    "### 2 - Automatic differentiation"
   ]
  },
  {
   "cell_type": "code",
   "execution_count": 47,
   "metadata": {
    "colab": {},
    "colab_type": "code",
    "id": "9dSfRr0r3keM"
   },
   "outputs": [],
   "source": [
    "# Define a simple function\n",
    "def fcn(x):\n",
    "  return 2.0 * tf.cos(x)"
   ]
  },
  {
   "cell_type": "code",
   "execution_count": 48,
   "metadata": {
    "colab": {},
    "colab_type": "code",
    "id": "pHxC4O9h40QP"
   },
   "outputs": [],
   "source": [
    "# Plot the function (note: automatic NumPy -> TensorFlow conversion)\n",
    "x_range = np.linspace(0, 5, 100)\n",
    "y_range = fcn(x_range)"
   ]
  },
  {
   "cell_type": "code",
   "execution_count": 49,
   "metadata": {
    "colab": {
     "base_uri": "https://localhost:8080/",
     "height": 286
    },
    "colab_type": "code",
    "id": "l7HTMzdH5Rul",
    "outputId": "711ef46e-774a-4b61-b1c3-c2b6a0ef2cb6"
   },
   "outputs": [
    {
     "data": {
      "text/plain": [
       "[<matplotlib.lines.Line2D at 0x265de2239b0>]"
      ]
     },
     "execution_count": 49,
     "metadata": {},
     "output_type": "execute_result"
    },
    {
     "data": {
      "image/png": "[encoded data removed]",
      "text/plain": [
       "<Figure size 432x288 with 1 Axes>"
      ]
     },
     "metadata": {
      "needs_background": "light"
     },
     "output_type": "display_data"
    }
   ],
   "source": [
    "import matplotlib.pyplot as plt\n",
    "plt.plot(x_range, y_range)"
   ]
  },
  {
   "cell_type": "code",
   "execution_count": 50,
   "metadata": {
    "colab": {},
    "colab_type": "code",
    "id": "aiLLfCjI53z1"
   },
   "outputs": [],
   "source": [
    "# Run the operations inside a tf.GradientTape\n",
    "x = tf.constant(1.0)\n",
    "with tf.GradientTape() as tape:\n",
    "  tape.watch(x)\n",
    "  y = fcn(x)"
   ]
  },
  {
   "cell_type": "code",
   "execution_count": 24,
   "metadata": {
    "colab": {},
    "colab_type": "code",
    "id": "a0RQ2jQj8Ej6"
   },
   "outputs": [],
   "source": [
    "# Get the gradient\n",
    "g = tape.gradient(y, x)"
   ]
  },
  {
   "cell_type": "code",
   "execution_count": 51,
   "metadata": {
    "colab": {
     "base_uri": "https://localhost:8080/",
     "height": 34
    },
    "colab_type": "code",
    "id": "Nn42biKC8dVf",
    "outputId": "5b1db8c3-f2db-436a-ffb3-2a738bc290e2"
   },
   "outputs": [
    {
     "data": {
      "text/plain": [
       "<tf.Tensor: id=217, shape=(), dtype=bool, numpy=True>"
      ]
     },
     "execution_count": 51,
     "metadata": {},
     "output_type": "execute_result"
    }
   ],
   "source": [
    "# Check it is correct to numerical precision\n",
    "# g == -2.0*tf.sin(x)\n",
    "tf.reduce_all(tf.equal(g, -2.0*tf.sin(x))) # Alternative definition with TF functions"
   ]
  },
  {
   "cell_type": "code",
   "execution_count": 0,
   "metadata": {
    "colab": {},
    "colab_type": "code",
    "id": "8uz8JTJHCCsr"
   },
   "outputs": [],
   "source": [
    "# Same, with tf.Variable (does not need to be watched)\n",
    "x = tf.random.uniform((3, 2))\n",
    "x = tf.Variable(x)"
   ]
  },
  {
   "cell_type": "code",
   "execution_count": 0,
   "metadata": {
    "colab": {},
    "colab_type": "code",
    "id": "EoEgj6ITDRMW"
   },
   "outputs": [],
   "source": [
    "with tf.GradientTape() as tape:\n",
    "  y = fcn(x)\n",
    "  z = tf.reduce_sum(y) # Note: we need a scalar in output"
   ]
  },
  {
   "cell_type": "code",
   "execution_count": 0,
   "metadata": {
    "colab": {
     "base_uri": "https://localhost:8080/",
     "height": 86
    },
    "colab_type": "code",
    "id": "5Z6CZhPDDycL",
    "outputId": "1565d4ef-25fb-4ef9-d687-9f240f246ab2"
   },
   "outputs": [
    {
     "data": {
      "text/plain": [
       "[<tf.Tensor: id=141, shape=(3, 2), dtype=float32, numpy=\n",
       " array([[-0.21220458, -0.819939  ],\n",
       "        [-1.504415  , -0.1483928 ],\n",
       "        [-1.0899347 , -1.2876378 ]], dtype=float32)>]"
      ]
     },
     "execution_count": 41,
     "metadata": {
      "tags": []
     },
     "output_type": "execute_result"
    }
   ],
   "source": [
    "tape.gradient(z, [x])"
   ]
  },
  {
   "cell_type": "markdown",
   "metadata": {
    "colab_type": "text",
    "id": "RDtK63zxuIxh"
   },
   "source": [
    "### 3 - Gradient Descent"
   ]
  },
  {
   "cell_type": "code",
   "execution_count": 0,
   "metadata": {
    "colab": {},
    "colab_type": "code",
    "id": "Lw4JmcinER-e"
   },
   "outputs": [],
   "source": [
    "x = tf.Variable(tf.ones(1))\n",
    "x_history = [] # Evolution of x\n",
    "y_history = [] # Evolution of the function\n",
    "g_history = [] # Evolution of the gradient\n",
    "for i in range(50):\n",
    "  with tf.GradientTape() as tape:\n",
    "      y = fcn(x)\n",
    "      x_history.append(x.numpy())\n",
    "      y_history.append(y.numpy())\n",
    "  g = tape.gradient(y, x)\n",
    "  g_history.append(g.numpy())\n",
    "  x.assign_sub(0.05*g) # We cannot reassign a Variable with standard operators, otherwise it becomes a tensor"
   ]
  },
  {
   "cell_type": "code",
   "execution_count": 0,
   "metadata": {
    "colab": {
     "base_uri": "https://localhost:8080/",
     "height": 286
    },
    "colab_type": "code",
    "id": "rKTFCNnXFaYM",
    "outputId": "9448b4b8-c0de-43a1-bf6c-b3096708fd2e"
   },
   "outputs": [
    {
     "data": {
      "text/plain": [
       "[<matplotlib.lines.Line2D at 0x7f5e56ef0518>]"
      ]
     },
     "execution_count": 55,
     "metadata": {
      "tags": []
     },
     "output_type": "execute_result"
    },
    {
     "data": {
      "image/png": "[encoded data removed]",
      "text/plain": [
       "<Figure size 432x288 with 1 Axes>"
      ]
     },
     "metadata": {
      "tags": []
     },
     "output_type": "display_data"
    }
   ],
   "source": [
    "plt.plot(x_range, y_range)\n",
    "plt.plot(x_history, fcn(x_history), 'o')"
   ]
  },
  {
   "cell_type": "code",
   "execution_count": 0,
   "metadata": {
    "colab": {
     "base_uri": "https://localhost:8080/",
     "height": 286
    },
    "colab_type": "code",
    "id": "Sjq3MomcHmAS",
    "outputId": "08d6e805-22a8-44fa-ffc0-7fa6b76a5414"
   },
   "outputs": [
    {
     "data": {
      "text/plain": [
       "[<matplotlib.lines.Line2D at 0x7f5e15ae8358>]"
      ]
     },
     "execution_count": 57,
     "metadata": {
      "tags": []
     },
     "output_type": "execute_result"
    },
    {
     "data": {
      "image/png": "[encoded data removed]",
      "text/plain": [
       "<Figure size 432x288 with 1 Axes>"
      ]
     },
     "metadata": {
      "tags": []
     },
     "output_type": "display_data"
    }
   ],
   "source": [
    "plt.plot(y_history)\n",
    "plt.xlabel('Iteration')\n",
    "plt.ylabel('Value of function')"
   ]
  },
  {
   "cell_type": "code",
   "execution_count": 0,
   "metadata": {
    "colab": {
     "base_uri": "https://localhost:8080/",
     "height": 286
    },
    "colab_type": "code",
    "id": "vRuYKDoyIwZ4",
    "outputId": "fd7bb218-f66a-4679-9d49-ad3ed50ac969"
   },
   "outputs": [
    {
     "data": {
      "text/plain": [
       "[<matplotlib.lines.Line2D at 0x7f5e157246a0>]"
      ]
     },
     "execution_count": 65,
     "metadata": {
      "tags": []
     },
     "output_type": "execute_result"
    },
    {
     "data": {
      "image/png": "[encoded data removed]",
      "text/plain": [
       "<Figure size 432x288 with 1 Axes>"
      ]
     },
     "metadata": {
      "tags": []
     },
     "output_type": "display_data"
    }
   ],
   "source": [
    "plt.plot(g_history)\n",
    "plt.xlabel('Iteration')\n",
    "plt.ylabel('Value of gradient')"
   ]
  },
  {
   "cell_type": "markdown",
   "metadata": {
    "colab_type": "text",
    "id": "OfOlzka_uWsz"
   },
   "source": [
    "### 4 - Advanced use cases"
   ]
  },
  {
   "cell_type": "code",
   "execution_count": 0,
   "metadata": {
    "colab": {},
    "colab_type": "code",
    "id": "p8AK84gYJTKP"
   },
   "outputs": [],
   "source": [
    "# Two variables!\n",
    "v1 = tf.Variable(2.0)\n",
    "v2 = tf.Variable(tf.ones(4))"
   ]
  },
  {
   "cell_type": "code",
   "execution_count": 0,
   "metadata": {
    "colab": {},
    "colab_type": "code",
    "id": "0l-UErK4JxLB"
   },
   "outputs": [],
   "source": [
    "# You can use conditional control flow (and other stuff) inside the GradientTape\n",
    "use_sqrt = True\n",
    "with tf.GradientTape() as tape:\n",
    "  if use_sqrt:\n",
    "    y = v1 + tf.reduce_sum(tf.sqrt(v2))\n",
    "  else:\n",
    "    y = v1 + tf.reduce_sum(v2)"
   ]
  },
  {
   "cell_type": "code",
   "execution_count": 0,
   "metadata": {
    "colab": {
     "base_uri": "https://localhost:8080/",
     "height": 71
    },
    "colab_type": "code",
    "id": "f-RnWdoxKD4F",
    "outputId": "82dec159-2fde-4633-d2bc-c230eac90c1d"
   },
   "outputs": [
    {
     "data": {
      "text/plain": [
       "[<tf.Tensor: id=8749, shape=(), dtype=float32, numpy=1.0>,\n",
       " <tf.Tensor: id=8753, shape=(4,), dtype=float32, numpy=array([0.5, 0.5, 0.5, 0.5], dtype=float32)>]"
      ]
     },
     "execution_count": 71,
     "metadata": {
      "tags": []
     },
     "output_type": "execute_result"
    }
   ],
   "source": [
    "tape.gradient(y, [v1, v2])"
   ]
  },
  {
   "cell_type": "code",
   "execution_count": 0,
   "metadata": {
    "colab": {},
    "colab_type": "code",
    "id": "FlS6x4tAKPaD"
   },
   "outputs": [],
   "source": [
    "# Second-order derivatives\n",
    "# Learn more: https://www.tensorflow.org/tutorials/customization/autodiff#higher-order_gradients\n",
    "with tf.GradientTape() as outer_tape:\n",
    "  with tf.GradientTape() as tape:\n",
    "      y = tf.reduce_sum(tf.sqrt(v2))\n",
    "  grad = tape.gradient(y, v2)\n",
    "gradgrad = outer_tape.gradient(grad, v2)"
   ]
  },
  {
   "cell_type": "code",
   "execution_count": 0,
   "metadata": {
    "colab": {
     "base_uri": "https://localhost:8080/",
     "height": 54
    },
    "colab_type": "code",
    "id": "V_kxYOBvM415",
    "outputId": "f9c2abff-aab8-42b1-d2f9-10c51a2de64d"
   },
   "outputs": [
    {
     "data": {
      "text/plain": [
       "<tf.Tensor: id=8798, shape=(4,), dtype=float32, numpy=array([-0.25, -0.25, -0.25, -0.25], dtype=float32)>"
      ]
     },
     "execution_count": 77,
     "metadata": {
      "tags": []
     },
     "output_type": "execute_result"
    }
   ],
   "source": [
    "gradgrad"
   ]
  },
  {
   "cell_type": "markdown",
   "metadata": {
    "colab_type": "text",
    "id": "OPErWCheuwLS"
   },
   "source": [
    "### Some reading material\n",
    "* https://www.tensorflow.org/tutorials/customization/basics\n",
    "* https://www.tensorflow.org/tutorials/customization/autodiff"
   ]
  }
 ],
 "metadata": {
  "colab": {
   "collapsed_sections": [],
   "name": "Notebook_1_Basics_and_automatic_differentiation.ipynb",
   "provenance": []
  },
  "kernelspec": {
   "display_name": "Python 3",
   "language": "python",
   "name": "python3"
  },
  "language_info": {
   "codemirror_mode": {
    "name": "ipython",
    "version": 3
   },
   "file_extension": ".py",
   "mimetype": "text/x-python",
   "name": "python",
   "nbconvert_exporter": "python",
   "pygments_lexer": "ipython3",
   "version": "3.6.8"
  }
 },
 "nbformat": 4,
 "nbformat_minor": 1
}
