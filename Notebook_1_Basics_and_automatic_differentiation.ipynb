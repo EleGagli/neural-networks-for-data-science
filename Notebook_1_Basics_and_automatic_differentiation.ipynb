{
  "nbformat": 4,
  "nbformat_minor": 0,
  "metadata": {
    "colab": {
      "name": "Notebook_1_Basics_and_automatic_differentiation.ipynb",
      "provenance": [],
      "collapsed_sections": []
    },
    "kernelspec": {
      "name": "python3",
      "display_name": "Python 3"
    }
  },
  "cells": [
    {
      "cell_type": "markdown",
      "metadata": {
        "id": "RnacmDDKr1ed",
        "colab_type": "text"
      },
      "source": [
        "# Neural Networks for Data Science Applications\n",
        "\n",
        "## Lab session 1: TensorFlow 2.0 basics & Automatic differentiation\n",
        "\n",
        "**Contents of the lab session**:\n",
        "* Linear algebra in TensorFlow.\n",
        "* Automatic gradient computation with tf.GradientTape.\n",
        "* Simple example of gradient descent."
      ]
    },
    {
      "cell_type": "code",
      "metadata": {
        "id": "qWW6GORKtaT3",
        "colab_type": "code",
        "colab": {}
      },
      "source": [
        "# Install the latest version of TF\n",
        "# The '!' sign means a command that is executed externally\n",
        "!pip install tensorflow==2.0.0"
      ],
      "execution_count": 0,
      "outputs": []
    },
    {
      "cell_type": "markdown",
      "metadata": {
        "id": "UKlXIe-DsTox",
        "colab_type": "text"
      },
      "source": [
        "### 1 - Linear algebra"
      ]
    },
    {
      "cell_type": "code",
      "metadata": {
        "id": "GwNQKhmEuoJz",
        "colab_type": "code",
        "colab": {}
      },
      "source": [
        "import tensorflow as tf"
      ],
      "execution_count": 0,
      "outputs": []
    },
    {
      "cell_type": "code",
      "metadata": {
        "id": "b91S_4m_vi5-",
        "colab_type": "code",
        "outputId": "3c19a2e9-0a69-4f3c-a70e-33c79433cbc6",
        "colab": {
          "base_uri": "https://localhost:8080/",
          "height": 34
        }
      },
      "source": [
        "# Check the version\n",
        "tf.__version__"
      ],
      "execution_count": 0,
      "outputs": [
        {
          "output_type": "execute_result",
          "data": {
            "text/plain": [
              "'2.0.0'"
            ]
          },
          "metadata": {
            "tags": []
          },
          "execution_count": 5
        }
      ]
    },
    {
      "cell_type": "code",
      "metadata": {
        "id": "35abT2ymv-9c",
        "colab_type": "code",
        "outputId": "29f3763f-eba5-4f94-9f0f-a74e0f83ad36",
        "colab": {
          "base_uri": "https://localhost:8080/",
          "height": 34
        }
      },
      "source": [
        "# Check whether a GPU is available\n",
        "# Hint: try to enable one from Runtime >> Change Runtime Type in Colab, and installling tensorflow-gpu.\n",
        "tf.test.is_gpu_available()"
      ],
      "execution_count": 0,
      "outputs": [
        {
          "output_type": "execute_result",
          "data": {
            "text/plain": [
              "False"
            ]
          },
          "metadata": {
            "tags": []
          },
          "execution_count": 6
        }
      ]
    },
    {
      "cell_type": "code",
      "metadata": {
        "id": "8gCYlBpywWMk",
        "colab_type": "code",
        "colab": {}
      },
      "source": [
        "# Simple matrix in NumPy\n",
        "import numpy as np\n",
        "A = np.random.rand(3, 2)"
      ],
      "execution_count": 0,
      "outputs": []
    },
    {
      "cell_type": "code",
      "metadata": {
        "id": "1Axouagrw8x5",
        "colab_type": "code",
        "outputId": "415120d8-2587-40f2-cf57-5cb3b916e9e7",
        "colab": {
          "base_uri": "https://localhost:8080/",
          "height": 69
        }
      },
      "source": [
        "A"
      ],
      "execution_count": 0,
      "outputs": [
        {
          "output_type": "execute_result",
          "data": {
            "text/plain": [
              "array([[0.92726273, 0.75240366],\n",
              "       [0.20714281, 0.57399542],\n",
              "       [0.00110189, 0.2898527 ]])"
            ]
          },
          "metadata": {
            "tags": []
          },
          "execution_count": 8
        }
      ]
    },
    {
      "cell_type": "code",
      "metadata": {
        "id": "h0qGHk0fw_HS",
        "colab_type": "code",
        "outputId": "36a6022a-105c-47a1-dd88-f32739077769",
        "colab": {
          "base_uri": "https://localhost:8080/",
          "height": 86
        }
      },
      "source": [
        "# Similar sintax in TF\n",
        "tf.random.normal((3, 2))"
      ],
      "execution_count": 0,
      "outputs": [
        {
          "output_type": "execute_result",
          "data": {
            "text/plain": [
              "<tf.Tensor: id=5, shape=(3, 2), dtype=float32, numpy=\n",
              "array([[ 1.0847126 ,  0.89749205],\n",
              "       [-0.58113194, -0.12092333],\n",
              "       [-0.1850024 ,  0.24272662]], dtype=float32)>"
            ]
          },
          "metadata": {
            "tags": []
          },
          "execution_count": 9
        }
      ]
    },
    {
      "cell_type": "code",
      "metadata": {
        "id": "y6ugoeGDxTWy",
        "colab_type": "code",
        "colab": {}
      },
      "source": [
        "# Default type is tf.float32, but you can force a different one\n",
        "B = tf.ones((5, 4), dtype=tf.float64)"
      ],
      "execution_count": 0,
      "outputs": []
    },
    {
      "cell_type": "code",
      "metadata": {
        "id": "_BHRRXC9x9KW",
        "colab_type": "code",
        "outputId": "1f9542da-1042-4399-cbba-d8e6c60d445b",
        "colab": {
          "base_uri": "https://localhost:8080/",
          "height": 121
        }
      },
      "source": [
        "# Casting in TF\n",
        "tf.cast(B, tf.int32)"
      ],
      "execution_count": 0,
      "outputs": [
        {
          "output_type": "execute_result",
          "data": {
            "text/plain": [
              "<tf.Tensor: id=9, shape=(5, 4), dtype=int32, numpy=\n",
              "array([[1, 1, 1, 1],\n",
              "       [1, 1, 1, 1],\n",
              "       [1, 1, 1, 1],\n",
              "       [1, 1, 1, 1],\n",
              "       [1, 1, 1, 1]], dtype=int32)>"
            ]
          },
          "metadata": {
            "tags": []
          },
          "execution_count": 11
        }
      ]
    },
    {
      "cell_type": "code",
      "metadata": {
        "id": "dbUJE2JSyY-h",
        "colab_type": "code",
        "outputId": "8a2a2c95-a738-4e14-9656-278f14c08cf3",
        "colab": {
          "base_uri": "https://localhost:8080/",
          "height": 86
        }
      },
      "source": [
        "# NumPy --> TensorFlow\n",
        "tf.constant(A)"
      ],
      "execution_count": 0,
      "outputs": [
        {
          "output_type": "execute_result",
          "data": {
            "text/plain": [
              "<tf.Tensor: id=10, shape=(3, 2), dtype=float64, numpy=\n",
              "array([[0.92726273, 0.75240366],\n",
              "       [0.20714281, 0.57399542],\n",
              "       [0.00110189, 0.2898527 ]])>"
            ]
          },
          "metadata": {
            "tags": []
          },
          "execution_count": 12
        }
      ]
    },
    {
      "cell_type": "code",
      "metadata": {
        "id": "kskupNrXyuiw",
        "colab_type": "code",
        "outputId": "080399d9-646a-488e-d8f6-190aad903c6c",
        "colab": {
          "base_uri": "https://localhost:8080/",
          "height": 103
        }
      },
      "source": [
        "# TensorFlow --> NumPy\n",
        "B.numpy()"
      ],
      "execution_count": 0,
      "outputs": [
        {
          "output_type": "execute_result",
          "data": {
            "text/plain": [
              "array([[1., 1., 1., 1.],\n",
              "       [1., 1., 1., 1.],\n",
              "       [1., 1., 1., 1.],\n",
              "       [1., 1., 1., 1.],\n",
              "       [1., 1., 1., 1.]])"
            ]
          },
          "metadata": {
            "tags": []
          },
          "execution_count": 13
        }
      ]
    },
    {
      "cell_type": "code",
      "metadata": {
        "id": "jK72SEvNzAjr",
        "colab_type": "code",
        "outputId": "852cb296-97ad-45c9-9e7e-3e1d4e0363b1",
        "colab": {
          "base_uri": "https://localhost:8080/",
          "height": 34
        }
      },
      "source": [
        "B.shape"
      ],
      "execution_count": 0,
      "outputs": [
        {
          "output_type": "execute_result",
          "data": {
            "text/plain": [
              "TensorShape([5, 4])"
            ]
          },
          "metadata": {
            "tags": []
          },
          "execution_count": 14
        }
      ]
    },
    {
      "cell_type": "code",
      "metadata": {
        "id": "ObGtmHE3zUgW",
        "colab_type": "code",
        "colab": {}
      },
      "source": [
        "# Simple indexing\n",
        "print(B[0])\n",
        "print(B[0, 3])\n",
        "print(B[0:2])\n",
        "print(B[-1])"
      ],
      "execution_count": 0,
      "outputs": []
    },
    {
      "cell_type": "code",
      "metadata": {
        "id": "RyseiZQg0Q7V",
        "colab_type": "code",
        "outputId": "0fadecc7-d6f3-430d-b995-ae99449dce69",
        "colab": {
          "base_uri": "https://localhost:8080/",
          "height": 34
        }
      },
      "source": [
        "# Getting summaries from an array (NumPy version)\n",
        "A.sum(axis=0)"
      ],
      "execution_count": 0,
      "outputs": [
        {
          "output_type": "execute_result",
          "data": {
            "text/plain": [
              "array([1.13550743, 1.61625178])"
            ]
          },
          "metadata": {
            "tags": []
          },
          "execution_count": 19
        }
      ]
    },
    {
      "cell_type": "code",
      "metadata": {
        "id": "tN2gO9Jj0fwx",
        "colab_type": "code",
        "outputId": "3a5bcd11-8a91-4e5f-8174-479c9aa0d4b9",
        "colab": {
          "base_uri": "https://localhost:8080/",
          "height": 54
        }
      },
      "source": [
        "# Getting summaries from an array (TensorFlow version)\n",
        "tf.reduce_sum(B, axis=1)"
      ],
      "execution_count": 0,
      "outputs": [
        {
          "output_type": "execute_result",
          "data": {
            "text/plain": [
              "<tf.Tensor: id=28, shape=(5,), dtype=float64, numpy=array([4., 4., 4., 4., 4.])>"
            ]
          },
          "metadata": {
            "tags": []
          },
          "execution_count": 20
        }
      ]
    },
    {
      "cell_type": "code",
      "metadata": {
        "id": "JOKf2lN506Ws",
        "colab_type": "code",
        "outputId": "624844a5-bfa7-4ca5-ce45-e0277d82c797",
        "colab": {
          "base_uri": "https://localhost:8080/",
          "height": 121
        }
      },
      "source": [
        "# All operators are element-wise\n",
        "B * B"
      ],
      "execution_count": 0,
      "outputs": [
        {
          "output_type": "execute_result",
          "data": {
            "text/plain": [
              "<tf.Tensor: id=29, shape=(5, 4), dtype=float64, numpy=\n",
              "array([[1., 1., 1., 1.],\n",
              "       [1., 1., 1., 1.],\n",
              "       [1., 1., 1., 1.],\n",
              "       [1., 1., 1., 1.],\n",
              "       [1., 1., 1., 1.]])>"
            ]
          },
          "metadata": {
            "tags": []
          },
          "execution_count": 21
        }
      ]
    },
    {
      "cell_type": "code",
      "metadata": {
        "id": "9hAm0QgL1I5u",
        "colab_type": "code",
        "outputId": "f5450940-918b-43a0-b899-d98d7c1f49b2",
        "colab": {
          "base_uri": "https://localhost:8080/",
          "height": 121
        }
      },
      "source": [
        "# Reshaping in NumPy\n",
        "A.reshape(6, 1)"
      ],
      "execution_count": 0,
      "outputs": [
        {
          "output_type": "execute_result",
          "data": {
            "text/plain": [
              "array([[0.92726273],\n",
              "       [0.75240366],\n",
              "       [0.20714281],\n",
              "       [0.57399542],\n",
              "       [0.00110189],\n",
              "       [0.2898527 ]])"
            ]
          },
          "metadata": {
            "tags": []
          },
          "execution_count": 22
        }
      ]
    },
    {
      "cell_type": "code",
      "metadata": {
        "id": "CkebDGvS1gf8",
        "colab_type": "code",
        "outputId": "0702bb8d-f80f-4fca-fbd0-83cc129e9025",
        "colab": {
          "base_uri": "https://localhost:8080/",
          "height": 103
        }
      },
      "source": [
        "# Reshaping in TensorFlow\n",
        "tf.reshape(B, (4, 5))"
      ],
      "execution_count": 0,
      "outputs": [
        {
          "output_type": "execute_result",
          "data": {
            "text/plain": [
              "<tf.Tensor: id=31, shape=(4, 5), dtype=float64, numpy=\n",
              "array([[1., 1., 1., 1., 1.],\n",
              "       [1., 1., 1., 1., 1.],\n",
              "       [1., 1., 1., 1., 1.],\n",
              "       [1., 1., 1., 1., 1.]])>"
            ]
          },
          "metadata": {
            "tags": []
          },
          "execution_count": 23
        }
      ]
    },
    {
      "cell_type": "code",
      "metadata": {
        "id": "0Ti9HEsz1oBl",
        "colab_type": "code",
        "colab": {}
      },
      "source": [
        "# Broadcasting (once)\n",
        "A = tf.random.uniform((3,))\n",
        "B = tf.random.uniform((1, 3))\n",
        "A + B"
      ],
      "execution_count": 0,
      "outputs": []
    },
    {
      "cell_type": "code",
      "metadata": {
        "id": "tUeq-Nzo3i4Q",
        "colab_type": "code",
        "colab": {}
      },
      "source": [
        "# Broadcasting (twice)\n",
        "A = tf.random.uniform((4, 3, 1))\n",
        "B = tf.random.uniform((1, 3, 5))\n",
        "A + B"
      ],
      "execution_count": 0,
      "outputs": []
    },
    {
      "cell_type": "markdown",
      "metadata": {
        "id": "14hiU8L7ts06",
        "colab_type": "text"
      },
      "source": [
        "### 2 - Automatic differentiation"
      ]
    },
    {
      "cell_type": "code",
      "metadata": {
        "id": "9dSfRr0r3keM",
        "colab_type": "code",
        "colab": {}
      },
      "source": [
        "# Define a simple function\n",
        "def fcn(x):\n",
        "  return 2.0 * tf.cos(x)"
      ],
      "execution_count": 0,
      "outputs": []
    },
    {
      "cell_type": "code",
      "metadata": {
        "id": "pHxC4O9h40QP",
        "colab_type": "code",
        "colab": {}
      },
      "source": [
        "# Plot the function (note: automatic NumPy -> TensorFlow conversion)\n",
        "x_range = np.linspace(0, 5, 100)\n",
        "y_range = fcn(x_range)"
      ],
      "execution_count": 0,
      "outputs": []
    },
    {
      "cell_type": "code",
      "metadata": {
        "id": "l7HTMzdH5Rul",
        "colab_type": "code",
        "outputId": "711ef46e-774a-4b61-b1c3-c2b6a0ef2cb6",
        "colab": {
          "base_uri": "https://localhost:8080/",
          "height": 286
        }
      },
      "source": [
        "import matplotlib.pyplot as plt\n",
        "plt.plot(x_range, y_range)"
      ],
      "execution_count": 0,
      "outputs": [
        {
          "output_type": "execute_result",
          "data": {
            "text/plain": [
              "[<matplotlib.lines.Line2D at 0x7f5e18d4dda0>]"
            ]
          },
          "metadata": {
            "tags": []
          },
          "execution_count": 32
        },
        {
          "output_type": "display_data",
          "data": {
            "image/png": "[encoded data removed]",
            "text/plain": [
              "<Figure size 432x288 with 1 Axes>"
            ]
          },
          "metadata": {
            "tags": []
          }
        }
      ]
    },
    {
      "cell_type": "code",
      "metadata": {
        "id": "aiLLfCjI53z1",
        "colab_type": "code",
        "colab": {}
      },
      "source": [
        "# Run the operations inside a tf.GradientTape\n",
        "x = tf.constant(1.0)\n",
        "with tf.GradientTape() as tape:\n",
        "  tape.watch(x)\n",
        "  y = fcn(x)"
      ],
      "execution_count": 0,
      "outputs": []
    },
    {
      "cell_type": "code",
      "metadata": {
        "id": "a0RQ2jQj8Ej6",
        "colab_type": "code",
        "colab": {}
      },
      "source": [
        "# Get the gradient\n",
        "g = tape.gradient(y, x)"
      ],
      "execution_count": 0,
      "outputs": []
    },
    {
      "cell_type": "code",
      "metadata": {
        "id": "Nn42biKC8dVf",
        "colab_type": "code",
        "outputId": "5b1db8c3-f2db-436a-ffb3-2a738bc290e2",
        "colab": {
          "base_uri": "https://localhost:8080/",
          "height": 34
        }
      },
      "source": [
        "# Check it is correct to numerical precision\n",
        "g == -2.0*tf.sin(x)"
      ],
      "execution_count": 0,
      "outputs": [
        {
          "output_type": "execute_result",
          "data": {
            "text/plain": [
              "<tf.Tensor: id=106, shape=(), dtype=float32, numpy=-1.6829419>"
            ]
          },
          "metadata": {
            "tags": []
          },
          "execution_count": 36
        }
      ]
    },
    {
      "cell_type": "code",
      "metadata": {
        "id": "8uz8JTJHCCsr",
        "colab_type": "code",
        "colab": {}
      },
      "source": [
        "# Same, with tf.Variable (does not need to be watched)\n",
        "x = tf.random.uniform((3, 2))\n",
        "x = tf.Variable(x)"
      ],
      "execution_count": 0,
      "outputs": []
    },
    {
      "cell_type": "code",
      "metadata": {
        "id": "EoEgj6ITDRMW",
        "colab_type": "code",
        "colab": {}
      },
      "source": [
        "with tf.GradientTape() as tape:\n",
        "  y = fcn(x)\n",
        "  z = tf.reduce_sum(y) # Note: we need a scalar in output"
      ],
      "execution_count": 0,
      "outputs": []
    },
    {
      "cell_type": "code",
      "metadata": {
        "id": "5Z6CZhPDDycL",
        "colab_type": "code",
        "outputId": "1565d4ef-25fb-4ef9-d687-9f240f246ab2",
        "colab": {
          "base_uri": "https://localhost:8080/",
          "height": 86
        }
      },
      "source": [
        "tape.gradient(z, [x])"
      ],
      "execution_count": 0,
      "outputs": [
        {
          "output_type": "execute_result",
          "data": {
            "text/plain": [
              "[<tf.Tensor: id=141, shape=(3, 2), dtype=float32, numpy=\n",
              " array([[-0.21220458, -0.819939  ],\n",
              "        [-1.504415  , -0.1483928 ],\n",
              "        [-1.0899347 , -1.2876378 ]], dtype=float32)>]"
            ]
          },
          "metadata": {
            "tags": []
          },
          "execution_count": 41
        }
      ]
    },
    {
      "cell_type": "markdown",
      "metadata": {
        "id": "RDtK63zxuIxh",
        "colab_type": "text"
      },
      "source": [
        "### 3 - Gradient Descent"
      ]
    },
    {
      "cell_type": "code",
      "metadata": {
        "id": "Lw4JmcinER-e",
        "colab_type": "code",
        "colab": {}
      },
      "source": [
        "x = tf.Variable(tf.ones(1))\n",
        "x_history = [] # Evolution of x\n",
        "y_history = [] # Evolution of the function\n",
        "g_history = [] # Evolution of the gradient\n",
        "for i in range(50):\n",
        "  with tf.GradientTape() as tape:\n",
        "      y = fcn(x)\n",
        "      x_history.append(x.numpy())\n",
        "      y_history.append(y.numpy())\n",
        "  g = tape.gradient(y, x)\n",
        "  g_history.append(g.numpy())\n",
        "  x.assign_sub(0.05*g) # We cannot reassign a Variable with standard operators, otherwise it becomes a tensor"
      ],
      "execution_count": 0,
      "outputs": []
    },
    {
      "cell_type": "code",
      "metadata": {
        "id": "rKTFCNnXFaYM",
        "colab_type": "code",
        "outputId": "9448b4b8-c0de-43a1-bf6c-b3096708fd2e",
        "colab": {
          "base_uri": "https://localhost:8080/",
          "height": 286
        }
      },
      "source": [
        "plt.plot(x_range, y_range)\n",
        "plt.plot(x_history, fcn(x_history), 'o')"
      ],
      "execution_count": 0,
      "outputs": [
        {
          "output_type": "execute_result",
          "data": {
            "text/plain": [
              "[<matplotlib.lines.Line2D at 0x7f5e56ef0518>]"
            ]
          },
          "metadata": {
            "tags": []
          },
          "execution_count": 55
        },
        {
          "output_type": "display_data",
          "data": {
            "image/png": "[encoded data removed]",
            "text/plain": [
              "<Figure size 432x288 with 1 Axes>"
            ]
          },
          "metadata": {
            "tags": []
          }
        }
      ]
    },
    {
      "cell_type": "code",
      "metadata": {
        "id": "Sjq3MomcHmAS",
        "colab_type": "code",
        "outputId": "08d6e805-22a8-44fa-ffc0-7fa6b76a5414",
        "colab": {
          "base_uri": "https://localhost:8080/",
          "height": 286
        }
      },
      "source": [
        "plt.plot(y_history)\n",
        "plt.xlabel('Iteration')\n",
        "plt.ylabel('Value of function')"
      ],
      "execution_count": 0,
      "outputs": [
        {
          "output_type": "execute_result",
          "data": {
            "text/plain": [
              "[<matplotlib.lines.Line2D at 0x7f5e15ae8358>]"
            ]
          },
          "metadata": {
            "tags": []
          },
          "execution_count": 57
        },
        {
          "output_type": "display_data",
          "data": {
            "image/png": "[encoded data removed]",
            "text/plain": [
              "<Figure size 432x288 with 1 Axes>"
            ]
          },
          "metadata": {
            "tags": []
          }
        }
      ]
    },
    {
      "cell_type": "code",
      "metadata": {
        "id": "vRuYKDoyIwZ4",
        "colab_type": "code",
        "outputId": "fd7bb218-f66a-4679-9d49-ad3ed50ac969",
        "colab": {
          "base_uri": "https://localhost:8080/",
          "height": 286
        }
      },
      "source": [
        "plt.plot(g_history)\n",
        "plt.xlabel('Iteration')\n",
        "plt.ylabel('Value of gradient')"
      ],
      "execution_count": 0,
      "outputs": [
        {
          "output_type": "execute_result",
          "data": {
            "text/plain": [
              "[<matplotlib.lines.Line2D at 0x7f5e157246a0>]"
            ]
          },
          "metadata": {
            "tags": []
          },
          "execution_count": 65
        },
        {
          "output_type": "display_data",
          "data": {
            "image/png": "[encoded data removed]",
            "text/plain": [
              "<Figure size 432x288 with 1 Axes>"
            ]
          },
          "metadata": {
            "tags": []
          }
        }
      ]
    },
    {
      "cell_type": "markdown",
      "metadata": {
        "id": "OfOlzka_uWsz",
        "colab_type": "text"
      },
      "source": [
        "### 4 - Advanced use cases"
      ]
    },
    {
      "cell_type": "code",
      "metadata": {
        "id": "p8AK84gYJTKP",
        "colab_type": "code",
        "colab": {}
      },
      "source": [
        "# Two variables!\n",
        "v1 = tf.Variable(2.0)\n",
        "v2 = tf.Variable(tf.ones(4))"
      ],
      "execution_count": 0,
      "outputs": []
    },
    {
      "cell_type": "code",
      "metadata": {
        "id": "0l-UErK4JxLB",
        "colab_type": "code",
        "colab": {}
      },
      "source": [
        "# You can use conditional control flow (and other stuff) inside the GradientTape\n",
        "use_sqrt = True\n",
        "with tf.GradientTape() as tape:\n",
        "  if use_sqrt:\n",
        "    y = v1 + tf.reduce_sum(tf.sqrt(v2))\n",
        "  else:\n",
        "    y = v1 + tf.reduce_sum(v2)"
      ],
      "execution_count": 0,
      "outputs": []
    },
    {
      "cell_type": "code",
      "metadata": {
        "id": "f-RnWdoxKD4F",
        "colab_type": "code",
        "outputId": "82dec159-2fde-4633-d2bc-c230eac90c1d",
        "colab": {
          "base_uri": "https://localhost:8080/",
          "height": 71
        }
      },
      "source": [
        "tape.gradient(y, [v1, v2])"
      ],
      "execution_count": 0,
      "outputs": [
        {
          "output_type": "execute_result",
          "data": {
            "text/plain": [
              "[<tf.Tensor: id=8749, shape=(), dtype=float32, numpy=1.0>,\n",
              " <tf.Tensor: id=8753, shape=(4,), dtype=float32, numpy=array([0.5, 0.5, 0.5, 0.5], dtype=float32)>]"
            ]
          },
          "metadata": {
            "tags": []
          },
          "execution_count": 71
        }
      ]
    },
    {
      "cell_type": "code",
      "metadata": {
        "id": "FlS6x4tAKPaD",
        "colab_type": "code",
        "colab": {}
      },
      "source": [
        "# Second-order derivatives\n",
        "# Learn more: https://www.tensorflow.org/tutorials/customization/autodiff#higher-order_gradients\n",
        "with tf.GradientTape() as outer_tape:\n",
        "  with tf.GradientTape() as tape:\n",
        "      y = tf.reduce_sum(tf.sqrt(v2))\n",
        "  grad = tape.gradient(y, v2)\n",
        "gradgrad = outer_tape.gradient(grad, v2)"
      ],
      "execution_count": 0,
      "outputs": []
    },
    {
      "cell_type": "code",
      "metadata": {
        "id": "V_kxYOBvM415",
        "colab_type": "code",
        "outputId": "f9c2abff-aab8-42b1-d2f9-10c51a2de64d",
        "colab": {
          "base_uri": "https://localhost:8080/",
          "height": 54
        }
      },
      "source": [
        "gradgrad"
      ],
      "execution_count": 0,
      "outputs": [
        {
          "output_type": "execute_result",
          "data": {
            "text/plain": [
              "<tf.Tensor: id=8798, shape=(4,), dtype=float32, numpy=array([-0.25, -0.25, -0.25, -0.25], dtype=float32)>"
            ]
          },
          "metadata": {
            "tags": []
          },
          "execution_count": 77
        }
      ]
    },
    {
      "cell_type": "markdown",
      "metadata": {
        "id": "OPErWCheuwLS",
        "colab_type": "text"
      },
      "source": [
        "### Some reading material\n",
        "* https://www.tensorflow.org/tutorials/customization/basics\n",
        "* https://www.tensorflow.org/tutorials/customization/autodiff"
      ]
    }
  ]
}